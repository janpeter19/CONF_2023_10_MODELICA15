{
  "cells": [
    {
      "cell_type": "markdown",
      "metadata": {
        "id": "view-in-github",
        "colab_type": "text"
      },
      "source": [
        "<a href=\"https://colab.research.google.com/github/janpeter19/CONF_2023_10_MODELICA15/blob/main/BPL_TEST2_Fedbatch_colab.ipynb\" target=\"_parent\"><img src=\"https://colab.research.google.com/assets/colab-badge.svg\" alt=\"Open In Colab\"/></a>"
      ]
    },
    {
      "cell_type": "markdown",
      "metadata": {
        "id": "UFcMzs4Y3HwH"
      },
      "source": [
        "# BPL_TEST2_Fedbatch script with PyFMI\n",
        "\n",
        "The key library PyFMI is installed.\n",
        "\n",
        "After the installation a small application BPL_TEST2_Fedbatch is loaded and run. You can continue with this example if you like."
      ]
    },
    {
      "cell_type": "code",
      "execution_count": null,
      "metadata": {
        "colab": {
          "base_uri": "https://localhost:8080/"
        },
        "id": "ID68dwep2zus",
        "outputId": "143c9961-3d0c-4869-f916-5dd2d048a542"
      },
      "outputs": [
        {
          "output_type": "stream",
          "name": "stdout",
          "text": [
            "No LSB modules are available.\n",
            "Distributor ID:\tUbuntu\n",
            "Description:\tUbuntu 22.04.2 LTS\n",
            "Release:\t22.04\n",
            "Codename:\tjammy\n"
          ]
        }
      ],
      "source": [
        "!lsb_release -a # Actual VM Ubuntu version used by Google"
      ]
    },
    {
      "cell_type": "code",
      "execution_count": null,
      "metadata": {
        "colab": {
          "base_uri": "https://localhost:8080/"
        },
        "id": "pVDcSg-j3SSV",
        "outputId": "a0a76a9d-cdd9-42e4-db04-30722453ad8a"
      },
      "outputs": [
        {
          "output_type": "stream",
          "name": "stdout",
          "text": [
            "env: PYTHONPATH=\n"
          ]
        }
      ],
      "source": [
        "%env PYTHONPATH="
      ]
    },
    {
      "cell_type": "code",
      "execution_count": null,
      "metadata": {
        "colab": {
          "base_uri": "https://localhost:8080/"
        },
        "id": "04VeBmLU3UFx",
        "outputId": "dae6b263-41ad-494f-d5b6-f4f9f1d136a3"
      },
      "outputs": [
        {
          "output_type": "stream",
          "name": "stdout",
          "text": [
            "--2023-08-19 11:11:49--  https://repo.anaconda.com/miniconda/Miniconda3-py310_23.1.0-1-Linux-x86_64.sh\n",
            "Resolving repo.anaconda.com (repo.anaconda.com)... 104.16.131.3, 104.16.130.3, 2606:4700::6810:8303, ...\n",
            "Connecting to repo.anaconda.com (repo.anaconda.com)|104.16.131.3|:443... connected.\n",
            "HTTP request sent, awaiting response... 200 OK\n",
            "Length: 74403966 (71M) [application/x-sh]\n",
            "Saving to: ‘Miniconda3-py310_23.1.0-1-Linux-x86_64.sh.1’\n",
            "\n",
            "Miniconda3-py310_23 100%[===================>]  70.96M   142MB/s    in 0.5s    \n",
            "\n",
            "2023-08-19 11:11:49 (142 MB/s) - ‘Miniconda3-py310_23.1.0-1-Linux-x86_64.sh.1’ saved [74403966/74403966]\n",
            "\n",
            "PREFIX=/usr/local\n",
            "Unpacking payload ...\n",
            "                                                                                 \n",
            "Installing base environment...\n",
            "\n",
            "\n",
            "Downloading and Extracting Packages\n",
            "\n",
            "\n",
            "Downloading and Extracting Packages\n",
            "\n",
            "Preparing transaction: - \b\bdone\n",
            "Executing transaction: | \b\b/ \b\b- \b\bdone\n",
            "installation finished.\n"
          ]
        }
      ],
      "source": [
        "!wget https://repo.anaconda.com/miniconda/Miniconda3-py310_23.1.0-1-Linux-x86_64.sh\n",
        "!chmod +x Miniconda3-py310_23.1.0-1-Linux-x86_64.sh\n",
        "!bash ./Miniconda3-py310_23.1.0-1-Linux-x86_64.sh -b -f -p /usr/local\n",
        "import sys\n",
        "sys.path.append('/usr/local/lib/python3.10/site-packages/')"
      ]
    },
    {
      "cell_type": "code",
      "execution_count": null,
      "metadata": {
        "colab": {
          "base_uri": "https://localhost:8080/"
        },
        "id": "5iuP4_vl3WFA",
        "outputId": "9f85b87f-0a1c-4db1-847c-b8618cd92280"
      },
      "outputs": [
        {
          "output_type": "stream",
          "name": "stdout",
          "text": [
            "Collecting package metadata (current_repodata.json): - \b\b\\ \b\b| \b\b/ \b\b- \b\b\\ \b\b| \b\b/ \b\b- \b\b\\ \b\b| \b\b/ \b\b- \b\b\\ \b\b| \b\b/ \b\bdone\n",
            "Solving environment: \\ \b\b| \b\b/ \b\b- \b\b\\ \b\b| \b\b/ \b\b- \b\b\\ \b\b| \b\b/ \b\b- \b\b\\ \b\b| \b\b/ \b\b- \b\b\\ \b\b| \b\b/ \b\b- \b\b\\ \b\b| \b\b/ \b\b- \b\b\\ \b\b| \b\b/ \b\b- \b\b\\ \b\b| \b\b/ \b\b- \b\b\\ \b\b| \b\b/ \b\b- \n",
            "The environment is inconsistent, please check the package plan carefully\n",
            "The following packages are causing the inconsistency:\n",
            "\n",
            "  - conda-forge/linux-64::scipy==1.11.1=py310ha4c1d20_0\n",
            "  - conda-forge/linux-64::libopenblas==0.3.23=pthreads_h80387f5_0\n",
            "  - conda-forge/linux-64::libblas==3.9.0=17_linux64_openblas\n",
            "  - conda-forge/linux-64::numpy==1.25.2=py310ha4c1d20_0\n",
            "  - conda-forge/linux-64::metis==5.1.1=h59595ed_0\n",
            "  - conda-forge/linux-64::pyfmi==2.11.0=py310h278f3c1_0\n",
            "  - conda-forge/linux-64::suitesparse==5.10.1=hd8046ac_0\n",
            "  - conda-forge/linux-64::libxslt==1.1.37=h873f0b0_0\n",
            "  - conda-forge/linux-64::mpfr==4.2.0=hb012696_0\n",
            "  - conda-forge/linux-64::fmilib==2.4.1=h59595ed_0\n",
            "  - conda-forge/linux-64::liblapack==3.9.0=17_linux64_openblas\n",
            "  - conda-forge/linux-64::assimulo==3.4.1=py310h48d6207_4\n",
            "  - conda-forge/linux-64::libcblas==3.9.0=17_linux64_openblas\n",
            "  - defaults/linux-64::lxml==4.9.2=py310h5eee18b_0\n",
            "  - conda-forge/linux-64::sundials==6.6.0=h777d08e_1\n",
            "\b\b\\ \b\b| \b\b/ \b\b- \b\b\\ \b\b| \b\b/ \b\b- \b\b\\ \b\b| \b\b/ \b\b- \b\b\\ \b\b| \b\b/ \b\b- \b\b\\ \b\b| \b\b/ \b\b- \b\b\\ \b\b| \b\b/ \b\b- \b\b\\ \b\b| \b\b/ \b\b- \b\b\\ \b\b| \b\b/ \b\b- \b\b\\ \b\b| \b\b/ \b\b- \b\b\\ \b\b| \b\b/ \b\b- \b\b\\ \b\b| \b\b/ \b\b- \b\b\\ \b\b| \b\b/ \b\b- \b\b\\ \b\b| \b\b/ \b\b- \b\b\\ \b\bfailed with repodata from current_repodata.json, will retry with next repodata source.\n",
            "Solving environment: / \b\b- \b\b\\ \b\b| \b\b/ \b\b- \b\b\\ \b\b| \b\b/ \b\b- \b\b\\ \b\b| \b\b/ \b\b- \b\b\\ \b\b| \b\b/ \b\b- \b\b\\ \b\b| \b\b/ \b\b- \b\b\\ \b\b| \b\b/ \b\b- \b\b\\ \b\b| \b\b/ \b\b- \b\b\\ \b\b| \b\b/ \b\b- \b\b\\ \b\b| \b\b/ \b\b- \b\b\\ \b\b| \b\b/ \b\b- \b\b\\ \b\b| \b\b/ \b\b- \b\b\\ \b\b| \b\b/ \b\b- \b\b\\ \b\b| \b\b/ \b\b- \b\b\\ \b\b| \b\b/ \b\b- \b\b\\ \b\b| \b\b/ \b\b- \b\b\\ \b\b| \b\b/ \b\b- \b\b\\ \b\b| \b\b/ \b\b- \b\b\\ \b\b| \b\b/ \b\bfailed with repodata from current_repodata.json, will retry with next repodata source.\n",
            "Collecting package metadata (repodata.json): \\ \b\b| \b\b/ \b\b- \b\b\\ \b\b| \b\b/ \b\b- \b\b\\ \b\b| \b\b/ \b\b- \b\b\\ \b\b| \b\b/ \b\b- \b\b\\ \b\b| \b\b/ \b\b- \b\b\\ \b\b| \b\b/ \b\b- \b\b\\ \b\b| \b\b/ \b\b- \b\b\\ \b\b| \b\b/ \b\b- \b\b\\ \b\b| \b\b/ \b\b- \b\b\\ \b\bdone\n",
            "Solving environment: / \b\b- \b\b\\ \b\b| \b\b/ \b\b- \b\b\\ \b\b| \b\b/ \b\b- \b\b\\ \b\b| \b\b/ \b\b- \b\b\\ \b\b| \b\b/ \b\b- \b\b\\ \b\b| \b\b/ \b\b- \b\b\\ \b\b| \b\b/ \b\b- \b\b\\ \b\b| \b\b/ \b\b- \b\b\\ \b\b| \b\b/ \b\b- \b\b\\ \b\b| \b\b/ \b\b- \b\b\\ \b\b| \b\b/ \b\b- \b\b\\ \b\b| \b\b/ \b\b- \b\b\\ \b\b| \b\b/ \b\b- \b\b\\ \b\b| \b\b/ \b\b- \b\b\\ \b\b| \b\b/ \b\b- \b\b\\ \b\b| \b\b/ \b\b- \b\b\\ \b\b| \b\b/ \b\b- \b\b\\ \b\b| \b\b/ \b\b- \b\b\\ \b\b| \b\b/ \b\b- \b\b\\ \b\b| \b\b/ \b\b- \b\b\\ \b\b| \b\b/ \b\b- \b\b\\ \b\b| \b\b/ \b\b- \b\b\\ \b\b| \b\b/ \b\b- \b\b\\ \b\b| \b\b/ \b\b- \b\b\\ \b\b| \b\b/ \b\b- \b\b\\ \b\b| \b\b/ \b\b- \b\b\\ \b\b| \b\b/ \b\b- \b\b\\ \b\b| \b\b/ \b\b- \b\b\\ \b\b| \b\b/ \b\b- \b\b\\ \b\b| \b\b/ \b\b- \b\b\\ \b\b| \b\b/ \b\b- \b\b\\ \b\b| \b\b/ \b\b- \b\b\\ \b\b| \b\b/ \b\b- \b\b\\ \b\b| \b\b/ \b\b- \b\b\\ \b\b| \b\b/ \b\b- \b\b\\ \b\b| \b\b/ \b\b- \b\b\\ \b\b| \b\b/ \b\b- \b\b\\ \b\b| \b\b/ \b\b- \b\b\\ \b\b| \b\b/ \b\b- \b\b\\ \b\b| \b\b/ \b\b- \b\b\\ \b\b| \b\b/ \b\b- \b\b\\ \b\b| \b\b/ \b\b- \b\b\\ \b\b| \b\b/ \b\b- \b\b\\ \b\b| \b\b/ \b\b- \b\b\\ \b\b| \b\b/ \b\b- \b\b\\ \b\b| \b\b/ \b\b- \b\b\\ \b\b| \b\b/ \b\b- \b\b\\ \b\b| \b\b/ \b\b- \b\b\\ \b\b| \b\b/ \b\b- \b\b\\ \b\b| \b\b/ \b\b- \b\b\\ \b\b| \b\b/ \b\b- \b\b\\ \b\b| \b\b/ \b\b- \b\b\\ \b\b| \b\b/ \b\b- \b\b\\ \b\b| \b\b/ \b\b- \b\b\\ \b\b| \b\b/ \b\b- \b\b\\ \b\b| \b\b/ \b\b- \b\b\\ \b\b| \b\b/ \b\b- \b\b\\ \b\b| \b\b/ \b\b- \b\b\\ \b\b| \b\b/ \b\b- \b\b\\ \b\b| \b\b/ \b\b- \b\b\\ \b\b| \b\b/ \b\b- \b\b\\ \b\b| \b\b/ \b\b- \b\b\\ \b\b| \b\b/ \b\b- \b\b\\ \b\b| \b\b/ \b\b- \b\b\\ \b\b| \b\b/ \b\b- \b\b\\ \b\b| \b\b/ \b\b- \b\b\\ \b\b| \b\b/ \b\b- \b\b\\ \b\b| \b\b/ \b\b- \b\b\\ \b\b| \b\b/ \b\b- \b\b\\ \b\b| \b\b/ \b\b- \b\b\\ \b\b| \b\b/ \b\b- \b\b\\ \b\b| \b\b/ \b\b- \b\b\\ \b\b| \b\b/ \b\b- \b\b\\ \b\b| \b\b/ \b\b- \b\b\\ \b\b| \b\b/ \b\b- \b\b\\ \b\b| \b\b/ \b\b- \b\b\\ \b\b| \b\b/ \b\b- \b\b\\ \b\b| \b\b/ \b\b- \b\b\\ \b\b| \b\b/ \b\b- \b\b\\ \b\b| \b\b/ \b\b- \b\b\\ \b\b| \b\b/ \b\b- \b\b\\ \b\b| \b\b/ \b\b- \b\b\\ \b\b| \b\b/ \b\b- \b\b\\ \b\b| \b\b/ \b\b- \b\b\\ \b\b| \b\b/ \b\b- \b\b\\ \b\b| \b\b/ \b\b- \b\b\\ \b\b| \b\b/ \b\b- \b\b\\ \b\b| \b\b/ \b\b- \b\b\\ \b\b| \b\b/ \b\b- \b\b\\ \b\b| \b\b/ \b\b- \b\b\\ \b\b| \b\b/ \b\b- \b\b\\ \b\b| \b\b/ \b\b- \b\b\\ \b\b| \b\b/ \b\b- \b\b\\ \b\b| \b\b/ \b\b- \b\b\\ \b\b| \b\b/ \b\b- \b\b\\ \b\b| \b\b/ \b\b- \b\b\\ \b\b| \b\b/ \b\b- \b\b\\ \b\b| \b\b/ \b\b- \b\b\\ \b\b| \b\b/ \b\b- \b\b\\ \b\b| \b\b/ \b\b- \b\b\\ \b\b| \b\b/ \b\b- \b\b\\ \b\b| \b\b/ \b\b- \b\b\\ \b\b| \b\b/ \b\b- \b\b\\ \b\b| \b\b/ \b\b- \b\b\\ \b\b| \b\b/ \b\b- \b\b\\ \b\b| \b\b/ \b\b- \b\b\\ \b\b| \b\b/ \b\b- \b\b\\ \b\b| \b\b/ \b\b- \b\b\\ \b\b| \b\b/ \b\b- \b\b\\ \b\b| \b\b/ \b\b- \b\b\\ \b\b| \b\b/ \b\b- \b\b\\ \b\b| \b\b/ \b\b- \b\b\\ \b\b| \b\b/ \b\b- \b\b\\ \b\b| \b\b/ \b\b- \b\b\\ \b\b| \b\b/ \b\b- \b\b\\ \b\b| \b\b/ \b\b- \b\b\\ \b\b| \b\b/ \b\b- \b\b\\ \b\b| \b\b/ \b\b- \b\b\\ \b\b| \b\b/ \b\b- \b\b\\ \b\b| \b\b/ \b\b- \b\b\\ \b\b| \b\b/ \b\b- \b\b\\ \b\b| \b\b/ \b\b- \b\b\\ \b\b| \b\b/ \b\b- \b\b\\ \b\b| \b\b/ \b\b- \b\b\\ \b\b| \b\b/ \b\b- \b\b\\ \b\b| \b\b/ \b\b- \b\b\\ \b\b| \b\b/ \b\b- \b\b\\ \b\b| \b\b/ \b\b- \b\b\\ \b\b| \b\b/ \b\b- \b\b\\ \b\b| \b\b/ \b\b- \b\b\\ \b\b| \b\b/ \b\b- \b\b\\ \b\b| \b\b/ \b\b- \n",
            "The environment is inconsistent, please check the package plan carefully\n",
            "The following packages are causing the inconsistency:\n",
            "\n",
            "  - conda-forge/linux-64::scipy==1.11.1=py310ha4c1d20_0\n",
            "  - conda-forge/linux-64::libopenblas==0.3.23=pthreads_h80387f5_0\n",
            "  - conda-forge/linux-64::libblas==3.9.0=17_linux64_openblas\n",
            "  - conda-forge/linux-64::numpy==1.25.2=py310ha4c1d20_0\n",
            "  - conda-forge/linux-64::metis==5.1.1=h59595ed_0\n",
            "  - conda-forge/linux-64::pyfmi==2.11.0=py310h278f3c1_0\n",
            "  - conda-forge/linux-64::suitesparse==5.10.1=hd8046ac_0\n",
            "  - conda-forge/linux-64::libxslt==1.1.37=h873f0b0_0\n",
            "  - conda-forge/linux-64::mpfr==4.2.0=hb012696_0\n",
            "  - conda-forge/linux-64::fmilib==2.4.1=h59595ed_0\n",
            "  - conda-forge/linux-64::liblapack==3.9.0=17_linux64_openblas\n",
            "  - conda-forge/linux-64::assimulo==3.4.1=py310h48d6207_4\n",
            "  - conda-forge/linux-64::libcblas==3.9.0=17_linux64_openblas\n",
            "  - defaults/linux-64::lxml==4.9.2=py310h5eee18b_0\n",
            "  - conda-forge/linux-64::sundials==6.6.0=h777d08e_1\n",
            "\b\b\\ \b\b| \b\b/ \b\b- \b\b\\ \b\b| \b\b/ \b\b- \b\b\\ \b\b| \b\b/ \b\b- \b\b\\ \b\b| \b\b/ \b\b- \b\b\\ \b\b| \b\b/ \b\b- \b\b\\ \b\b| \b\b/ \b\b- \b\b\\ \b\b| \b\b/ \b\b- \b\b\\ \b\b| \b\b/ \b\b- \b\b\\ \b\b| \b\b/ \b\b- \b\b\\ \b\b| \b\b/ \b\b- \b\b\\ \b\b| \b\b/ \b\b- \b\b\\ \b\b| \b\b/ \b\b- \b\b\\ \b\b| \b\b/ \b\b- \b\b\\ \b\b| \b\b/ \b\b- \b\b\\ \b\b| \b\b/ \b\b- \b\b\\ \b\b| \b\b/ \b\b- \b\b\\ \b\b| \b\b/ \b\b- \b\b\\ \b\b| \b\b/ \b\b- \b\b\\ \b\b| \b\b/ \b\b- \b\b\\ \b\b| \b\b/ \b\b- \b\b\\ \b\b| \b\b/ \b\b- \b\b\\ \b\b| \b\b/ \b\b- \b\b\\ \b\b| \b\b/ \b\b- \b\b\\ \b\b| \b\b/ \b\b- \b\b\\ \b\b| \b\b/ \b\b- \b\b\\ \b\b| \b\b/ \b\b- \b\b\\ \b\b| \b\b/ \b\b- \b\b\\ \b\b| \b\b/ \b\b- \b\b\\ \b\b| \b\b/ \b\b- \b\b\\ \b\b| \b\b/ \b\b- \b\b\\ \b\b| \b\b/ \b\b- \b\b\\ \b\b| \b\b/ \b\b- \b\b\\ \b\b| \b\b/ \b\b- \b\b\\ \b\b| \b\b/ \b\b- \b\b\\ \b\b| \b\b/ \b\b- \b\b\\ \b\b| \b\b/ \b\b- \b\b\\ \b\b| \b\b/ \b\b- \b\b\\ \b\b| \b\b/ \b\b- \b\b\\ \b\b| \b\b/ \b\b- \b\b\\ \b\b| \b\b/ \b\b- \b\b\\ \b\b| \b\b/ \b\b- \b\b\\ \b\b| \b\b/ \b\b- \b\b\\ \b\b| \b\b/ \b\b- \b\b\\ \b\b| \b\b/ \b\b- \b\b\\ \b\b| \b\b/ \b\b- \b\b\\ \b\b| \b\b/ \b\b- \b\b\\ \b\b| \b\b/ \b\b- \b\b\\ \b\b| \b\b/ \b\b- \b\b\\ \b\b| \b\b/ \b\b- \b\b\\ \b\b| \b\b/ \b\b- \b\b\\ \b\b| \b\b/ \b\b- \b\b\\ \b\b| \b\b/ \b\b- \b\b\\ \b\b| \b\b/ \b\b- \b\b\\ \b\b| \b\b/ \b\b- \b\b\\ \b\b| \b\b/ \b\b- \b\b\\ \b\b| \b\b/ \b\b- \b\b\\ \b\b| \b\b/ \b\b- \b\b\\ \b\b| \b\b/ \b\b- \b\b\\ \b\b| \b\b/ \b\b- \b\b\\ \b\b| \b\b/ \b\b- \b\b\\ \b\b| \b\b/ \b\b- \b\b\\ \b\b| \b\b/ \b\b- \b\b\\ \b\b| \b\b/ \b\b- \b\b\\ \b\b| \b\b/ \b\b- \b\b\\ \b\b| \b\b/ \b\b- \b\b\\ \b\b| \b\b/ \b\b- \b\b\\ \b\b| \b\b/ \b\b- \b\b\\ \b\b| \b\b/ \b\b- \b\b\\ \b\b| \b\b/ \b\b- \b\b\\ \b\b| \b\b/ \b\b- \b\b\\ \b\b| \b\b/ \b\b- \b\b\\ \b\b| \b\b/ \b\b- \b\b\\ \b\b| \b\b/ \b\b- \b\b\\ \b\b| \b\b/ \b\b- \b\b\\ \b\b| \b\b/ \b\b- \b\b\\ \b\b| \b\b/ \b\b- \b\b\\ \b\b| \b\b/ \b\b- \b\b\\ \b\b| \b\b/ \b\b- \b\b\\ \b\b| \b\b/ \b\b- \b\b\\ \b\b| \b\b/ \b\b- \b\b\\ \b\b| \b\b/ \b\b- \b\b\\ \b\b| \b\b/ \b\b- \b\b\\ \b\b| \b\b/ \b\b- \b\b\\ \b\b| \b\b/ \b\b- \b\b\\ \b\b| \b\b/ \b\b- \b\b\\ \b\b| \b\b/ \b\b- \b\b\\ \b\b| \b\b/ \b\b- \b\b\\ \b\b| \b\b/ \b\b- \b\b\\ \b\b| \b\b/ \b\b- \b\b\\ \b\b| \b\b/ \b\b- \b\b\\ \b\b| \b\b/ \b\b- \b\b\\ \b\b| \b\b/ \b\b- \b\b\\ \b\b| \b\b/ \b\b- \b\b\\ \b\b| \b\b/ \b\b- \b\b\\ \b\b| \b\b/ \b\b- \b\b\\ \b\b| \b\b/ \b\b- \b\b\\ \b\b| \b\b/ \b\b- \b\b\\ \b\b| \b\b/ \b\b- \b\b\\ \b\b| \b\b/ \b\b- \b\b\\ \b\b| \b\b/ \b\b- \b\b\\ \b\b| \b\b/ \b\b- \b\b\\ \b\b| \b\b/ \b\b- \b\b\\ \b\b| \b\b/ \b\b- \b\b\\ \b\b| \b\b/ \b\b- \b\b\\ \b\b| \b\b/ \b\b- \b\b\\ \b\b| \b\b/ \b\b- \b\b\\ \b\b| \b\b/ \b\b- \b\b\\ \b\b| \b\b/ \b\b- \b\b\\ \b\b| \b\b/ \b\b- \b\b\\ \b\b| \b\b/ \b\b- \b\b\\ \b\b| \b\b/ \b\b- \b\b\\ \b\b| \b\b/ \b\b- \b\b\\ \b\b| \b\b/ \b\bfailed\n",
            "Solving environment: \\ \b\b| \b\b/ \b\b- \b\b\\ \b\b| \b\b/ \b\b- \b\b\\ \b\b| \b\b/ \b\b- \b\b\\ \b\b| \b\b/ \b\b- \b\b\\ \b\b| \b\b/ \b\b- \b\b\\ \b\b| \b\b/ \b\b- \b\b\\ \b\b| \b\b/ \b\b- \b\b\\ \b\b| \b\b/ \b\b- \b\b\\ \b\b| \b\b/ \b\b- \b\b\\ \b\b| \b\b/ \b\b- \b\b\\ \b\b| \b\b/ \b\b- \b\b\\ \b\b| \b\b/ \b\b- \b\b\\ \b\b| \b\b/ \b\b- \b\b\\ \b\b| \b\b/ \b\b- \b\b\\ \b\b| \b\b/ \b\b- \b\b\\ \b\b| \b\b/ \b\b- \b\b\\ \b\b| \b\b/ \b\b- \b\b\\ \b\b| \b\b/ \b\b- \b\b\\ \b\b| \b\b/ \b\b- \b\b\\ \b\b| \b\b/ \b\b- \b\b\\ \b\b| \b\b/ \b\b- \b\b\\ \b\b| \b\b/ \b\b- \b\b\\ \b\b| \b\b/ \b\b- \b\b\\ \b\b| \b\b/ \b\b- \b\b\\ \b\b| \b\b/ \b\b- \b\b\\ \b\b| \b\b/ \b\b- \b\b\\ \b\b| \b\b/ \b\b- \b\b\\ \b\b| \b\b/ \b\b- \b\b\\ \b\b| \b\b/ \b\b- \b\b\\ \b\b| \b\b/ \b\b- \b\b\\ \b\b| \b\b/ \b\b- \b\b\\ \b\b| \b\b/ \b\b- \b\b\\ \b\b| \b\b/ \b\b- \b\b\\ \b\b| \b\b/ \b\b- \b\b\\ \b\b| \b\b/ \b\b- \b\b\\ \b\b| \b\b/ \b\b- \b\b\\ \b\b| \b\b/ \b\b- \b\b\\ \b\b| \b\b/ \b\b- \b\b\\ \b\b| \b\b/ \b\b- \b\b\\ \b\b| \b\b/ \b\b- \b\b\\ \b\b| \b\b/ \b\b- \b\b\\ \b\b| \b\b/ \b\b- \b\b\\ \b\b| \b\b/ \b\b- \b\b\\ \b\b| \b\b/ \b\b- \b\b\\ \b\b| \b\b/ \b\b- \b\b\\ \b\b| \b\b/ \b\b- \b\b\\ \b\b| \b\b/ \b\b- \b\b\\ \b\b| \b\b/ \b\b- \b\b\\ \b\b| \b\b/ \b\b- \b\b\\ \b\b| \b\b/ \b\b- \b\b\\ \b\b| \b\b/ \b\b- \b\b\\ \b\b| \b\b/ \b\b- \b\b\\ \b\b| \b\b/ \b\b- \b\b\\ \b\b| \b\b/ \b\b- \b\b\\ \b\b| \b\b/ \b\b- \b\b\\ \b\b| \b\b/ \b\b- \b\b\\ \b\b| \b\b/ \b\b- \b\b\\ \b\b| \b\b/ \b\b- \b\b\\ \b\b| \b\b/ \b\b- \b\b\\ \b\b| \b\b/ \b\b- \b\b\\ \b\b| \b\b/ \b\b- \b\b\\ \b\b| \b\b/ \b\b- \b\b\\ \b\b| \b\b/ \b\b- \b\b\\ \b\b| \b\b/ \b\b- \b\b\\ \b\b| \b\b/ \b\b- \b\b\\ \b\b| \b\b/ \b\b- \b\b\\ \b\b| \b\b/ \b\b- \b\b\\ \b\b| \b\b/ \b\b- \b\b\\ \b\b| \b\b/ \b\b- \b\b\\ \b\b| \b\b/ \b\b- \b\b\\ \b\b| \b\b/ \b\b- \b\b\\ \b\b| \b\b/ \b\b- \b\b\\ \b\b| \b\b/ \b\b- \b\b\\ \b\b| \b\b/ \b\b- \b\b\\ \b\b| \b\b/ \b\b- \b\b\\ \b\b| \b\b/ \b\b- \b\b\\ \b\b| \b\b/ \b\b- \b\b\\ \b\b| \b\b/ \b\b- \b\b\\ \b\b| \b\b/ \b\b- \b\b\\ \b\b| \b\b/ \b\b- \b\b\\ \b\b| \b\b/ \b\b- \b\b\\ \b\b| \b\b/ \b\b- \b\b\\ \b\b| \b\b/ \b\b- \b\b\\ \b\b| \b\b/ \b\b- \b\b\\ \b\b| \b\b/ \b\b- \b\b\\ \b\b| \b\b/ \b\b- \b\b\\ \b\b| \b\b/ \b\b- \b\b\\ \b\b| \b\b/ \b\b- \b\b\\ \b\b| \b\b/ \b\b- \b\b\\ \b\b| \b\b/ \b\b- \b\b\\ \b\b| \b\b/ \b\b- \b\b\\ \b\b| \b\b/ \b\b- \b\b\\ \b\b| \b\b/ \b\b- \b\b\\ \b\b| \b\b/ \b\b- \b\b\\ \b\b| \b\b/ \b\b- \b\b\\ \b\b| \b\b/ \b\b- \b\b\\ \b\b| \b\b/ \b\b- \b\b\\ \b\b| \b\b/ \b\b- \b\b\\ \b\b| \b\b/ \b\b- \b\b\\ \b\b| \b\b/ \b\b- \b\b\\ \b\b| \b\b/ \b\b- \b\b\\ \b\b| \b\b/ \b\b- \b\b\\ \b\b| \b\b/ \b\b- \b\b\\ \b\b| \b\b/ \b\b- \b\b\\ \b\b| \b\b/ \b\b- \b\b\\ \b\b| \b\b/ \b\b- \b\b\\ \b\b| \b\b/ \b\b- \b\b\\ \b\b| \b\b/ \b\b- \b\b\\ \b\b| \b\b/ \b\b- \b\b\\ \b\b| \b\b/ \b\b- \b\b\\ \b\b| \b\b/ \b\b- \b\b\\ \b\b| \b\b/ \b\b- \b\b\\ \b\b| \b\b/ \b\b- \b\b\\ \b\b| \b\b/ \b\b- \b\b\\ \b\b| \b\b/ \b\b- \b\b\\ \b\b| \b\b/ \b\b- \b\b\\ \b\b| \b\b/ \b\b- \b\b\\ \b\b| \b\b/ \b\b- \b\b\\ \b\b| \b\b/ \b\b- \b\b\\ \b\b| \b\b/ \b\b- \b\b\\ \b\b| \b\b/ \b\b- \b\b\\ \b\b| \b\b/ \b\b- \b\b\\ \b\b| \b\b/ \b\b- \b\b\\ \b\b| \b\b/ \b\b- \b\b\\ \b\b| \b\b/ \b\b- \b\b\\ \b\b| \b\b/ \b\b- \b\b\\ \b\b| \b\b/ \b\b- \b\b\\ \b\b| \b\b/ \b\b- \b\b\\ \b\b| \b\b/ \b\b- \b\b\\ \b\b| \b\b/ \b\b- \b\b\\ \b\b| \b\b/ \b\b- \b\b\\ \b\b| \b\b/ \b\b- \b\b\\ \b\b| \b\b/ \b\b- \b\b\\ \b\b| \b\b/ \b\b- \b\b\\ \b\b| \b\b/ \b\b- \b\b\\ \b\b| \b\b/ \b\b- \b\b\\ \b\b| \b\b/ \b\b- \b\b\\ \b\b| \b\b/ \b\b- \b\b\\ \b\b| \b\b/ \b\b- \b\b\\ \b\b| \b\b/ \b\b- \b\b\\ \b\b| \b\b/ \b\b- \b\b\\ \b\b| \b\b/ \b\b- \b\b\\ \b\b| \b\b/ \b\b- \b\b\\ \b\b| \b\b/ \b\b- \b\b\\ \b\b| \b\b/ \b\b- \b\b\\ \b\b| \b\b/ \b\b- \b\b\\ \b\b| \b\b/ \b\b- \b\b\\ \b\b| \b\b/ \b\b- \b\b\\ \b\b| \b\b/ \b\b- \b\b\\ \b\b| \b\b/ \b\b- \b\b\\ \b\b| \b\b/ \b\b- \b\b\\ \b\b| \b\b/ \b\b- \b\b\\ \b\b| \b\b/ \b\b- \b\b\\ \b\b| \b\b/ \b\b- \b\b\\ \b\b| \b\b/ \b\b- \b\b\\ \b\b| \b\b/ \b\b- \b\b\\ \b\b| \b\b/ \b\b- \b\b\\ \b\b| \b\b/ \b\b- \b\b\\ \b\b| \b\b/ \b\b- \b\b\\ \b\b| \b\b/ \b\b- \b\b\\ \b\b| \b\b/ \b\b- \b\b\\ \b\b| \b\b/ \b\b- \b\b\\ \b\b| \b\b/ \b\b- \b\b\\ \b\b| \b\b/ \b\b- \b\b\\ \b\b| \b\b/ \b\b- \b\b\\ \b\b| \b\b/ \b\b- \b\b\\ \b\b| \b\b/ \b\b- \b\b\\ \b\b| \b\b/ \b\b- \b\b\\ \b\b| \b\b/ \b\b- \b\b\\ \b\b| \b\b/ \b\b- \b\b\\ \b\b| \b\b/ \b\b- \b\b\\ \b\b| \b\b/ \b\b- \b\b\\ \b\b| \b\b/ \b\b- \b\b\\ \b\b| \b\b/ \n",
            "Found conflicts! Looking for incompatible packages.\n",
            "This can take several minutes.  Press CTRL-C to abort.\n",
            "\b\b\\ \b\b| \b\bfailed\n",
            "\n",
            "UnsatisfiableError: The following specifications were found\n",
            "to be incompatible with the existing python installation in your environment:\n",
            "\n",
            "Specifications:\n",
            "\n",
            "  - conda-content-trust -> python[version='>=2.7,<2.8.0a0|>=3.6,<3.7.0a0|>=3.5,<3.6.0a0']\n",
            "\n",
            "Your python: python=3.10\n",
            "\n",
            "If python is on the left-most side of the chain, that's the version you've asked for.\n",
            "When python appears to the right, that indicates that the thing on the left is somehow\n",
            "not available for the python version you are constrained to. Note that conda will not\n",
            "change your python version to a different minor version unless you explicitly specify\n",
            "that.\n",
            "\n",
            "The following specifications were found to be incompatible with a past\n",
            "explicit spec that is not an explicit spec in this operation (setuptools):\n",
            "\n",
            "  - conda -> python[version='>=3.10,<3.11.0a0'] -> pip\n",
            "  - conda -> ruamel.yaml[version='>=0.11.14,<0.18'] -> setuptools\n",
            "  - conda -> setuptools[version='>=31.0.1|>=60.0.0']\n",
            "\n",
            "The following specifications were found to be incompatible with each other:\n",
            "\n",
            "Output in format: Requested package -> Available versions\n",
            "\n",
            "Package libgfortran4 conflicts for:\n",
            "numpy -> libopenblas[version='>=0.3.3,<1.0a0'] -> libgfortran4[version='7.5.0.*|>=7.5.0']\n",
            "libopenblas -> libgfortran-ng -> libgfortran4=7.5.0\n",
            "scipy -> libgfortran4[version='>=7.5.0']\n",
            "suitesparse -> libgfortran-ng -> libgfortran4[version='7.5.0.*|>=7.5.0']\n",
            "scipy -> libgfortran-ng -> libgfortran4=7.5.0\n",
            "pyfmi -> scipy -> libgfortran4[version='>=7.5.0']\n",
            "libopenblas -> libgfortran4[version='>=7.5.0']\n",
            "assimulo -> libgfortran-ng -> libgfortran4[version='7.5.0.*|>=7.5.0']\n",
            "\n",
            "Package libcblas conflicts for:\n",
            "assimulo -> numpy[version='>=1.21.6,<2.0a0'] -> libcblas[version='>=3.9.0,<4.0a0']\n",
            "suitesparse -> libcblas[version='>=3.8.0,<4.0a0']\n",
            "numpy -> libcblas[version='>=3.9.0,<4.0a0']\n",
            "sundials -> suitesparse[version='>=5.10.1,<6.0a0'] -> libcblas[version='>=3.8.0,<4.0a0']\n",
            "scipy -> libcblas[version='>=3.9.0,<4.0a0']\n",
            "pyfmi -> numpy[version='>=1.21.6,<2.0a0'] -> libcblas[version='>=3.9.0,<4.0a0']\n",
            "\n",
            "Package mpfr conflicts for:\n",
            "sundials -> suitesparse[version='>=5.10.1,<6.0a0'] -> mpfr[version='>=4.0.2,<5.0a0']\n",
            "suitesparse -> mpfr[version='>=4.0.2,<5.0a0']\n",
            "\n",
            "Package libstdcxx-ng conflicts for:\n",
            "mpfr -> gmp[version='>=6.1.2'] -> libstdcxx-ng[version='>=7.2.0|>=7.3.0|>=7.5.0']\n",
            "conda-content-trust -> python[version='>=3.7,<3.8.0a0'] -> libstdcxx-ng[version='>=11.2.0|>=7.2.0|>=7.3.0|>=7.5.0']\n",
            "certifi -> python[version='>=3.8,<3.9.0a0'] -> libstdcxx-ng[version='>=11.2.0|>=7.5.0|>=7.3.0|>=7.2.0']\n",
            "setuptools -> python[version='>=3.8,<3.9.0a0'] -> libstdcxx-ng[version='>=11.2.0|>=7.5.0|>=7.3.0|>=7.2.0']\n",
            "libxslt -> icu[version='>=58.2,<59.0a0'] -> libstdcxx-ng[version='>=7.2.0|>=7.3.0']\n",
            "pyfmi -> fmilib[version='>=2.4.1,<2.5.0a0'] -> libstdcxx-ng[version='>=11.2.0|>=12|>=7.5.0|>=7.3.0|>=7.2.0']\n",
            "lxml -> python[version='>=3.8,<3.9.0a0'] -> libstdcxx-ng[version='>=11.2.0|>=7.5.0|>=7.3.0|>=7.2.0']\n",
            "suitesparse -> libstdcxx-ng[version='>=11.2.0|>=7.5.0|>=7.3.0|>=7.2.0|>=9.3.0']\n",
            "sundials -> libstdcxx-ng[version='>=12']\n",
            "scipy -> libstdcxx-ng[version='>=11.2.0|>=7.5.0|>=7.3.0|>=7.2.0|>=12']\n",
            "assimulo -> numpy[version='>=1.21.6,<2.0a0'] -> libstdcxx-ng[version='>=11.2.0|>=7.5.0|>=12|>=7.3.0|>=7.2.0']\n",
            "numpy -> libstdcxx-ng[version='>=11.2.0|>=7.5.0|>=12']\n",
            "conda[version='>=23.1.0'] -> python[version='>=3.8,<3.9.0a0'] -> libstdcxx-ng[version='>=11.2.0|>=7.5.0|>=7.3.0|>=7.2.0']\n",
            "sundials -> suitesparse[version='>=5.10.1,<6.0a0'] -> libstdcxx-ng[version='>=11.2.0|>=7.5.0|>=9.3.0']\n",
            "metis -> libstdcxx-ng[version='>=7.2.0']\n",
            "pip -> python[version='>=3.8,<3.9.0a0'] -> libstdcxx-ng[version='>=11.2.0|>=7.5.0|>=7.3.0|>=7.2.0']\n",
            "libopenblas -> libstdcxx-ng[version='>=11.2.0|>=7.5.0']\n",
            "fmilib -> libstdcxx-ng[version='>=12']\n",
            "numpy -> mkl_fft -> libstdcxx-ng[version='>=7.2.0|>=7.3.0']\n",
            "wheel -> python[version='>=3.8,<3.9.0a0'] -> libstdcxx-ng[version='>=11.2.0|>=7.5.0|>=7.3.0|>=7.2.0']\n",
            "conda -> python[version='>=3.8,<3.9.0a0'] -> libstdcxx-ng[version='>=11.2.0|>=7.5.0|>=7.3.0|>=7.2.0']\n",
            "python=3.10 -> libffi[version='>=3.4,<3.5'] -> libstdcxx-ng[version='>=11.2.0|>=7.5.0|>=7.3.0']\n",
            "\n",
            "Package pip conflicts for:\n",
            "conda-content-trust -> python[version='>=3.11,<3.12.0a0'] -> pip\n",
            "scipy -> python[version='>=3.9,<3.10.0a0'] -> pip\n",
            "wheel -> python[version='>=3.11,<3.12.0a0'] -> pip\n",
            "numpy -> python[version='>=3.11,<3.12.0a0'] -> pip\n",
            "setuptools -> python[version='>=3.8,<3.9.0a0'] -> pip\n",
            "lxml -> python[version='>=3.11,<3.12.0a0'] -> pip\n",
            "pyfmi -> python[version='>=3.10,<3.11.0a0'] -> pip\n",
            "conda[version='>=23.1.0'] -> python[version='>=3.10,<3.11.0a0'] -> pip\n",
            "python=3.10 -> pip\n",
            "certifi -> python[version='>=3.11,<3.12.0a0'] -> pip\n",
            "assimulo -> python[version='>=3.10,<3.11.0a0'] -> pip\n",
            "\n",
            "Package numpy conflicts for:\n",
            "scipy -> numpy[version='>=1.11.3,<2.0a0|>=1.14.6,<2.0a0|>=1.16,<1.23|>=1.19,<1.25.0|>=1.19,<1.26.0|>=1.19.5,<1.27.0|>=1.21.5,<1.28|>=1.23.5,<1.28|>=1.23,<1.27.0|>=1.21,<1.27.0|>=1.21,<1.26.0|>=1.23,<1.26.0|>=1.21,<1.25.0|>=1.21,<1.23|>=1.16.6,<1.23.0|>=1.21.2,<1.23.0|>=1.16.6,<2.0a0|>=1.15.1,<2.0a0|>=1.9.3,<2.0a0|>=1.21.6,<1.28|>=1.21.6,<2.0a0']\n",
            "pyfmi -> numpy[version='>=1.21.6,<2.0a0']\n",
            "pyfmi -> scipy -> numpy[version='>=1.11.3,<2.0a0|>=1.14.6,<2.0a0|>=1.16,<1.23|>=1.19,<1.25.0|>=1.19,<1.26.0|>=1.19.5,<1.27.0|>=1.21.5,<1.28|>=1.23.5,<1.28|>=1.23,<1.27.0|>=1.21,<1.27.0|>=1.21,<1.26.0|>=1.23,<1.26.0|>=1.21,<1.25.0|>=1.21,<1.23|>=1.16.6,<1.23.0|>=1.21.2,<1.23.0|>=1.16.6,<2.0a0|>=1.15.1,<2.0a0|>=1.9.3,<2.0a0|>=1.21.6,<1.28']\n",
            "assimulo -> scipy -> numpy[version='>=1.11.3,<2.0a0|>=1.14.6,<2.0a0|>=1.16,<1.23|>=1.19,<1.25.0|>=1.19,<1.26.0|>=1.19.5,<1.27.0|>=1.21.5,<1.28|>=1.23.5,<1.28|>=1.23,<1.27.0|>=1.21,<1.27.0|>=1.21,<1.26.0|>=1.23,<1.26.0|>=1.21,<1.25.0|>=1.21,<1.23|>=1.16.6,<1.23.0|>=1.21.2,<1.23.0|>=1.16.6,<2.0a0|>=1.15.1,<2.0a0|>=1.9.3,<2.0a0|>=1.21.6,<1.28']\n",
            "assimulo -> numpy[version='>=1.21.6,<2.0a0']\n",
            "\n",
            "Package six conflicts for:\n",
            "suitesparse -> mkl-service[version='>=2.3.0,<3.0a0'] -> six\n",
            "conda-content-trust -> six\n",
            "conda -> conda-package-handling[version='>=1.3.0'] -> six[version='>=1.5.2']\n",
            "numpy -> mkl-service[version='>=2.3.0,<3.0a0'] -> six\n",
            "conda[version='>=23.1.0'] -> conda-package-handling[version='>=1.3.0'] -> six[version='>=1.5.2']\n",
            "conda-content-trust -> cryptography[version='<41.0.0a0'] -> six[version='>=1.4.1']\n",
            "scipy -> mkl-service[version='>=2.3.0,<3.0a0'] -> six\n",
            "\n",
            "Package certifi conflicts for:\n",
            "pip -> setuptools -> certifi[version='>=2016.09|>=2016.9.26']\n",
            "setuptools -> certifi[version='>=2016.09|>=2016.9.26']\n",
            "conda[version='>=23.1.0'] -> requests[version='>=2.27.0,<3'] -> certifi[version='>=2016.09|>=2016.9.26|>=2017.4.17']\n",
            "wheel -> setuptools -> certifi[version='>=2016.09|>=2016.9.26']\n",
            "conda -> requests[version='>=2.27.0,<3'] -> certifi[version='>=2016.09|>=2016.9.26|>=2017.4.17']\n",
            "\n",
            "Package libblas conflicts for:\n",
            "suitesparse -> libblas[version='>=3.8.0,<4.0a0']\n",
            "scipy -> libblas[version='>=3.9.0,<4.0a0']\n",
            "suitesparse -> libcblas[version='>=3.8.0,<4.0a0'] -> libblas==3.9.0=17_linux64_openblas\n",
            "libcblas -> libblas==3.9.0=17_linux64_openblas\n",
            "numpy -> libblas[version='>=3.9.0,<4.0a0']\n",
            "sundials -> libblas[version='>=3.9.0,<4.0a0']\n",
            "scipy -> libcblas[version='>=3.9.0,<4.0a0'] -> libblas==3.9.0=17_linux64_openblas\n",
            "numpy -> libcblas[version='>=3.9.0,<4.0a0'] -> libblas==3.9.0=17_linux64_openblas\n",
            "assimulo -> liblapack[version='>=3.9.0,<4.0a0'] -> libblas==3.9.0=17_linux64_openblas\n",
            "assimulo -> libblas[version='>=3.9.0,<4.0a0']\n",
            "sundials -> liblapack[version='>=3.9.0,<4.0a0'] -> libblas[version='3.9.0|>=3.8.0,<4.0a0',build=17_linux64_openblas]\n",
            "pyfmi -> assimulo[version='>=3.0'] -> libblas[version='>=3.9.0,<4.0a0']\n",
            "\n",
            "Package openssl conflicts for:\n",
            "scipy -> python[version='>=3.9,<3.10.0a0'] -> openssl[version='1.0.*|>=1.0.2m,<1.0.3a|>=1.0.2n,<1.0.3a|>=1.0.2o,<1.0.3a|>=1.0.2p,<1.0.3a|>=1.1.1a,<1.1.2a|>=1.1.1b,<1.1.2a|>=1.1.1c,<1.1.2a|>=1.1.1d,<1.1.2a|>=1.1.1e,<1.1.2a|>=1.1.1g,<1.1.2a|>=1.1.1h,<1.1.2a|>=1.1.1i,<1.1.2a|>=1.1.1j,<1.1.2a|>=1.1.1k,<1.1.2a|>=1.1.1l,<1.1.2a|>=1.1.1n,<1.1.2a|>=1.1.1o,<1.1.2a|>=1.1.1q,<1.1.2a|>=1.1.1s,<1.1.2a|>=1.1.1t,<1.1.2a|>=1.1.1u,<1.1.2a|>=3.0.9,<4.0a0|>=3.0.8,<4.0a0|>=1.1.1m,<1.1.2a|>=1.0.2l,<1.0.3a']\n",
            "numpy -> python[version='>=3.11,<3.12.0a0'] -> openssl[version='1.0.*|>=1.0.2m,<1.0.3a|>=1.0.2n,<1.0.3a|>=1.0.2o,<1.0.3a|>=1.0.2p,<1.0.3a|>=1.1.1a,<1.1.2a|>=1.1.1b,<1.1.2a|>=1.1.1c,<1.1.2a|>=1.1.1d,<1.1.2a|>=1.1.1e,<1.1.2a|>=1.1.1g,<1.1.2a|>=1.1.1h,<1.1.2a|>=1.1.1i,<1.1.2a|>=1.1.1j,<1.1.2a|>=1.1.1k,<1.1.2a|>=1.1.1l,<1.1.2a|>=1.1.1n,<1.1.2a|>=1.1.1o,<1.1.2a|>=1.1.1q,<1.1.2a|>=1.1.1s,<1.1.2a|>=1.1.1t,<1.1.2a|>=1.1.1u,<1.1.2a|>=3.0.9,<4.0a0|>=3.0.8,<4.0a0|>=1.1.1m,<1.1.2a|>=1.0.2l,<1.0.3a']\n",
            "assimulo -> python[version='>=3.10,<3.11.0a0'] -> openssl[version='>=1.1.1l,<1.1.2a|>=1.1.1m,<1.1.2a|>=1.1.1n,<1.1.2a|>=1.1.1q,<1.1.2a|>=1.1.1s,<1.1.2a|>=1.1.1t,<1.1.2a|>=1.1.1u,<1.1.2a|>=3.0.9,<4.0a0|>=3.0.8,<4.0a0']\n",
            "python=3.10 -> openssl[version='>=1.1.1l,<1.1.2a|>=1.1.1m,<1.1.2a|>=1.1.1n,<1.1.2a|>=1.1.1q,<1.1.2a|>=1.1.1s,<1.1.2a|>=1.1.1t,<1.1.2a|>=1.1.1u,<1.1.2a|>=3.0.9,<4.0a0|>=3.0.8,<4.0a0']\n",
            "lxml -> python[version='>=3.11,<3.12.0a0'] -> openssl[version='1.0.*|>=1.0.2m,<1.0.3a|>=1.0.2n,<1.0.3a|>=1.0.2o,<1.0.3a|>=1.0.2p,<1.0.3a|>=1.1.1a,<1.1.2a|>=1.1.1b,<1.1.2a|>=1.1.1c,<1.1.2a|>=1.1.1d,<1.1.2a|>=1.1.1e,<1.1.2a|>=1.1.1g,<1.1.2a|>=1.1.1j,<1.1.2a|>=1.1.1k,<1.1.2a|>=1.1.1l,<1.1.2a|>=1.1.1n,<1.1.2a|>=1.1.1q,<1.1.2a|>=1.1.1s,<1.1.2a|>=1.1.1t,<1.1.2a|>=1.1.1u,<1.1.2a|>=3.0.9,<4.0a0|>=3.0.8,<4.0a0|>=1.1.1m,<1.1.2a|>=1.1.1o,<1.1.2a|>=1.1.1i,<1.1.2a|>=1.1.1h,<1.1.2a|>=1.0.2l,<1.0.3a']\n",
            "conda -> python[version='>=3.10,<3.11.0a0'] -> openssl[version='1.0.*|>=1.0.2m,<1.0.3a|>=1.0.2n,<1.0.3a|>=1.0.2o,<1.0.3a|>=1.0.2p,<1.0.3a|>=1.1.1a,<1.1.2a|>=1.1.1b,<1.1.2a|>=1.1.1c,<1.1.2a|>=1.1.1d,<1.1.2a|>=1.1.1e,<1.1.2a|>=1.1.1g,<1.1.2a|>=1.1.1j,<1.1.2a|>=1.1.1k,<1.1.2a|>=1.1.1l,<1.1.2a|>=1.1.1m,<1.1.2a|>=1.1.1n,<1.1.2a|>=1.1.1q,<1.1.2a|>=1.1.1s,<1.1.2a|>=1.1.1t,<1.1.2a|>=1.1.1u,<1.1.2a|>=3.0.9,<4.0a0|>=3.0.8,<4.0a0|>=1.1.1o,<1.1.2a|>=1.1.1i,<1.1.2a|>=1.1.1h,<1.1.2a|>=1.0.2l,<1.0.3a']\n",
            "pip -> python[version='>=3.10,<3.11.0a0'] -> openssl[version='1.0.*|>=1.0.2m,<1.0.3a|>=1.0.2n,<1.0.3a|>=1.0.2o,<1.0.3a|>=1.0.2p,<1.0.3a|>=1.1.1a,<1.1.2a|>=1.1.1b,<1.1.2a|>=1.1.1c,<1.1.2a|>=1.1.1d,<1.1.2a|>=1.1.1e,<1.1.2a|>=1.1.1g,<1.1.2a|>=1.1.1j,<1.1.2a|>=1.1.1k,<1.1.2a|>=1.1.1l,<1.1.2a|>=1.1.1m,<1.1.2a|>=1.1.1n,<1.1.2a|>=1.1.1q,<1.1.2a|>=1.1.1s,<1.1.2a|>=1.1.1t,<1.1.2a|>=1.1.1u,<1.1.2a|>=3.0.9,<4.0a0|>=3.0.8,<4.0a0|>=1.1.1o,<1.1.2a|>=1.1.1i,<1.1.2a|>=1.1.1h,<1.1.2a|>=1.0.2l,<1.0.3a']\n",
            "certifi -> python[version='>=3.11,<3.12.0a0'] -> openssl[version='1.0.*|>=1.0.2m,<1.0.3a|>=1.0.2n,<1.0.3a|>=1.0.2o,<1.0.3a|>=1.0.2p,<1.0.3a|>=1.1.1a,<1.1.2a|>=1.1.1b,<1.1.2a|>=1.1.1c,<1.1.2a|>=1.1.1d,<1.1.2a|>=1.1.1e,<1.1.2a|>=1.1.1g,<1.1.2a|>=1.1.1j,<1.1.2a|>=1.1.1k,<1.1.2a|>=1.1.1l,<1.1.2a|>=1.1.1n,<1.1.2a|>=1.1.1q,<1.1.2a|>=1.1.1s,<1.1.2a|>=1.1.1t,<1.1.2a|>=1.1.1u,<1.1.2a|>=3.0.9,<4.0a0|>=3.0.8,<4.0a0|>=1.1.1m,<1.1.2a|>=1.1.1o,<1.1.2a|>=1.1.1i,<1.1.2a|>=1.1.1h,<1.1.2a|>=1.0.2l,<1.0.3a']\n",
            "setuptools -> python[version='>=3.8,<3.9.0a0'] -> openssl[version='1.0.*|>=1.0.2m,<1.0.3a|>=1.0.2n,<1.0.3a|>=1.0.2o,<1.0.3a|>=1.0.2p,<1.0.3a|>=1.1.1a,<1.1.2a|>=1.1.1b,<1.1.2a|>=1.1.1c,<1.1.2a|>=1.1.1d,<1.1.2a|>=1.1.1e,<1.1.2a|>=1.1.1g,<1.1.2a|>=1.1.1j,<1.1.2a|>=1.1.1k,<1.1.2a|>=1.1.1l,<1.1.2a|>=1.1.1n,<1.1.2a|>=1.1.1q,<1.1.2a|>=1.1.1s,<1.1.2a|>=1.1.1t,<1.1.2a|>=1.1.1u,<1.1.2a|>=3.0.9,<4.0a0|>=3.0.8,<4.0a0|>=1.1.1o,<1.1.2a|>=1.1.1i,<1.1.2a|>=1.1.1h,<1.1.2a|>=1.1.1m,<1.1.2a|>=1.0.2l,<1.0.3a']\n",
            "wheel -> python[version='>=3.11,<3.12.0a0'] -> openssl[version='1.0.*|>=1.0.2m,<1.0.3a|>=1.0.2n,<1.0.3a|>=1.0.2o,<1.0.3a|>=1.0.2p,<1.0.3a|>=1.1.1a,<1.1.2a|>=1.1.1b,<1.1.2a|>=1.1.1c,<1.1.2a|>=1.1.1d,<1.1.2a|>=1.1.1e,<1.1.2a|>=1.1.1g,<1.1.2a|>=1.1.1j,<1.1.2a|>=1.1.1k,<1.1.2a|>=1.1.1l,<1.1.2a|>=1.1.1n,<1.1.2a|>=1.1.1q,<1.1.2a|>=1.1.1s,<1.1.2a|>=1.1.1t,<1.1.2a|>=1.1.1u,<1.1.2a|>=3.0.9,<4.0a0|>=3.0.8,<4.0a0|>=1.1.1o,<1.1.2a|>=1.1.1i,<1.1.2a|>=1.1.1h,<1.1.2a|>=1.1.1m,<1.1.2a|>=1.0.2l,<1.0.3a']\n",
            "conda-content-trust -> cryptography[version='<41.0.0a0'] -> openssl[version='1.0.*|3.*|<1.1.2a|>=1.1.1l,<1.1.2a|>=1.1.1k,<1.1.2a|>=1.1.1j,<1.1.2a|>=1.1.1i,<1.1.2a|>=1.1.1h,<1.1.2a|>=1.1.1g,<1.1.2a|>=1.1.1d,<1.1.2a|>=1.1.1c,<1.1.2a|>=1.1.1b,<1.1.2a|>=1.1.1a,<1.1.2a|>=1.0.2p,<1.0.3a|>=1.0.2o,<1.0.3a|>=1.0.2n,<1.0.3a|>=1.0.2m,<1.0.3a|>=1.1.1u,<1.1.2a|>=3.0.9,<4.0a0|>=3.0.8,<4.0a0|>=1.1.1t,<1.1.2a|>=1.1.1s,<1.1.2a|>=1.1.1q,<1.1.2a|>=1.1.1n,<1.1.2a|>=1.1.1e,<1.1.2a|>=1.1.1o,<1.1.2a|>=1.1.1m,<1.1.2a|>=1.0.2l,<1.0.3a']\n",
            "conda[version='>=23.1.0'] -> python[version='>=3.10,<3.11.0a0'] -> openssl[version='>=1.0.2o,<1.0.3a|>=1.0.2p,<1.0.3a|>=1.1.1a,<1.1.2a|>=1.1.1b,<1.1.2a|>=1.1.1c,<1.1.2a|>=1.1.1d,<1.1.2a|>=1.1.1e,<1.1.2a|>=1.1.1g,<1.1.2a|>=1.1.1j,<1.1.2a|>=1.1.1k,<1.1.2a|>=1.1.1l,<1.1.2a|>=1.1.1m,<1.1.2a|>=1.1.1n,<1.1.2a|>=1.1.1q,<1.1.2a|>=1.1.1s,<1.1.2a|>=1.1.1t,<1.1.2a|>=1.1.1u,<1.1.2a|>=3.0.9,<4.0a0|>=3.0.8,<4.0a0|>=1.1.1o,<1.1.2a|>=1.1.1i,<1.1.2a|>=1.1.1h,<1.1.2a']\n",
            "pyfmi -> python[version='>=3.10,<3.11.0a0'] -> openssl[version='>=1.1.1l,<1.1.2a|>=1.1.1m,<1.1.2a|>=1.1.1n,<1.1.2a|>=1.1.1q,<1.1.2a|>=1.1.1s,<1.1.2a|>=1.1.1t,<1.1.2a|>=1.1.1u,<1.1.2a|>=3.0.9,<4.0a0|>=3.0.8,<4.0a0']\n",
            "\n",
            "Package ca-certificates conflicts for:\n",
            "python=3.10 -> openssl[version='>=1.1.1u,<1.1.2a'] -> ca-certificates\n",
            "lxml -> python[version='>=2.7,<2.8.0a0'] -> ca-certificates\n",
            "conda-content-trust -> python -> ca-certificates\n",
            "openssl -> ca-certificates\n",
            "setuptools -> python[version='>=2.7,<2.8.0a0'] -> ca-certificates\n",
            "scipy -> python[version='>=2.7,<2.8.0a0'] -> ca-certificates\n",
            "certifi -> python -> ca-certificates\n",
            "wheel -> python -> ca-certificates\n",
            "conda -> python[version='>=2.7,<2.8.0a0'] -> ca-certificates\n",
            "numpy -> python[version='>=2.7,<2.8.0a0'] -> ca-certificates\n",
            "pip -> python[version='>=2.7,<2.8.0a0'] -> ca-certificates\n",
            "\n",
            "Package mkl conflicts for:\n",
            "numpy -> mkl[version='>=2018.0.0,<2019.0a0|>=2018.0.1,<2019.0a0|>=2018.0.2,<2019.0a0|>=2018.0.3,<2019.0a0|>=2019.1,<2021.0a0|>=2019.3,<2021.0a0|>=2019.4,<2021.0a0|>=2021.2.0,<2022.0a0|>=2021.3.0,<2022.0a0|>=2021.4.0,<2022.0a0|>=2023.1.0,<2024.0a0|>=2019.4,<2020.0a0']\n",
            "numpy -> mkl_random -> mkl[version='>=2020.1,<2021.0a0']\n",
            "suitesparse -> mkl[version='>=2018.0.3,<2019.0a0|>=2019.1,<2021.0a0|>=2021.4.0,<2022.0a0|>=2023.1.0,<2024.0a0']\n",
            "pyfmi -> numpy[version='>=1.21.6,<2.0a0'] -> mkl[version='>=2018.0.0,<2019.0a0|>=2018.0.2,<2019.0a0|>=2018.0.3,<2019.0a0|>=2019.1,<2021.0a0|>=2019.4,<2021.0a0|>=2021.2.0,<2022.0a0|>=2021.3.0,<2022.0a0|>=2021.4.0,<2022.0a0|>=2023.1.0,<2024.0a0']\n",
            "sundials -> suitesparse[version='>=5.10.1,<6.0a0'] -> mkl[version='>=2021.4.0,<2022.0a0']\n",
            "scipy -> numpy[version='>=1.16,<1.23'] -> mkl[version='>=2018.0.1,<2019.0a0|>=2019.3,<2021.0a0|>=2019.4,<2020.0a0']\n",
            "assimulo -> numpy[version='>=1.21.6,<2.0a0'] -> mkl[version='>=2018.0.0,<2019.0a0|>=2018.0.2,<2019.0a0|>=2018.0.3,<2019.0a0|>=2019.1,<2021.0a0|>=2019.4,<2021.0a0|>=2021.2.0,<2022.0a0|>=2021.3.0,<2022.0a0|>=2021.4.0,<2022.0a0|>=2023.1.0,<2024.0a0']\n",
            "suitesparse -> mkl-service[version='>=2.3.0,<3.0a0'] -> mkl[version='>=2019.4,<2021.0a0|>=2021.2.0,<2022.0a0']\n",
            "scipy -> mkl[version='>=2018.0.0,<2019.0a0|>=2018.0.2,<2019.0a0|>=2018.0.3,<2019.0a0|>=2019.1,<2021.0a0|>=2019.4,<2021.0a0|>=2021.2.0,<2022.0a0|>=2021.3.0,<2022.0a0|>=2021.4.0,<2022.0a0|>=2023.1.0,<2024.0a0']\n",
            "\n",
            "Package libgfortran-ng conflicts for:\n",
            "scipy -> libopenblas[version='>=0.3.2,<0.3.3.0a0'] -> libgfortran-ng[version='>=8,<9.0a0']\n",
            "suitesparse -> libgfortran-ng\n",
            "assimulo -> libgfortran-ng\n",
            "pyfmi -> assimulo[version='>=3.0'] -> libgfortran-ng[version='>=7,<8.0a0|>=7.2.0,<8.0a0']\n",
            "scipy -> libgfortran-ng[version='>=7,<8.0a0|>=7.2.0,<8.0a0']\n",
            "suitesparse -> libopenblas[version='>=0.3.3,<1.0a0'] -> libgfortran-ng[version='>=7,<8.0a0|>=7.2.0,<8.0a0']\n",
            "libblas -> libopenblas[version='>=0.3.23,<0.3.24.0a0'] -> libgfortran-ng\n",
            "assimulo -> scipy -> libgfortran-ng[version='>=7,<8.0a0|>=7.2.0,<8.0a0']\n",
            "numpy -> libgfortran-ng[version='>=7,<8.0a0|>=7.2.0,<8.0a0']\n",
            "libopenblas -> libgfortran-ng[version='>=7,<8.0a0|>=8,<9.0a0|>=7.2.0,<8.0a0']\n",
            "numpy -> libopenblas[version='>=0.3.2,<0.3.3.0a0'] -> libgfortran-ng[version='>=8,<9.0a0']\n",
            "\n",
            "Package intel-openmp conflicts for:\n",
            "numpy -> mkl[version='>=2023.1.0,<2024.0a0'] -> intel-openmp[version='2021.*|2023.*|2022.*']\n",
            "suitesparse -> mkl[version='>=2023.1.0,<2024.0a0'] -> intel-openmp[version='2021.*|2023.*']\n",
            "scipy -> mkl[version='>=2023.1.0,<2024.0a0'] -> intel-openmp[version='2021.*|2023.*']\n",
            "scipy -> intel-openmp[version='>=2021.4.0,<2022.0a0|>=2023.1.0,<2024.0a0']\n",
            "pyfmi -> scipy -> intel-openmp[version='>=2021.4.0,<2022.0a0|>=2023.1.0,<2024.0a0']\n",
            "assimulo -> scipy -> intel-openmp[version='>=2021.4.0,<2022.0a0|>=2023.1.0,<2024.0a0']\n",
            "\n",
            "Package enum34 conflicts for:\n",
            "conda -> enum34\n",
            "conda-content-trust -> cryptography[version='<41.0.0a0'] -> enum34\n",
            "\n",
            "Package libgcc-ng conflicts for:\n",
            "setuptools -> python[version='>=3.8,<3.9.0a0'] -> libgcc-ng[version='>=11.2.0|>=7.5.0|>=7.3.0|>=7.2.0']\n",
            "suitesparse -> libgcc-ng[version='>=11.2.0|>=7.5.0|>=7.3.0|>=7.2.0|>=9.3.0']\n",
            "conda-content-trust -> cryptography[version='<41.0.0a0'] -> libgcc-ng[version='>=11.2.0|>=7.2.0|>=7.3.0|>=7.5.0']\n",
            "scipy -> libgcc-ng[version='>=11.2.0|>=7.5.0|>=7.3.0|>=7.2.0|>=12']\n",
            "pyfmi -> lxml -> libgcc-ng[version='>=11.2.0|>=7.5.0|>=7.3.0|>=7.2.0']\n",
            "sundials -> libgcc-ng[version='>=12']\n",
            "scipy -> libopenblas[version='>=0.3.2,<0.3.3.0a0'] -> libgcc-ng[version='>=8.2.0']\n",
            "libxslt -> libgcc-ng[version='>=11.2.0|>=7.5.0|>=7.3.0|>=7.2.0|>=12']\n",
            "python=3.10 -> bzip2[version='>=1.0.8,<2.0a0'] -> libgcc-ng[version='>=7.2.0|>=7.3.0']\n",
            "assimulo -> libgcc-ng[version='>=12']\n",
            "lxml -> libgcc-ng[version='>=11.2.0|>=7.5.0|>=7.3.0|>=7.2.0']\n",
            "conda -> conda-package-handling[version='>=1.3.0'] -> libgcc-ng[version='>=11.2.0|>=7.5.0|>=7.3.0|>=7.2.0']\n",
            "pip -> python[version='>=3.10,<3.11.0a0'] -> libgcc-ng[version='>=11.2.0|>=7.5.0|>=7.3.0|>=7.2.0']\n",
            "suitesparse -> mpfr[version='>=4.0.2,<5.0a0'] -> libgcc-ng[version='>=12']\n",
            "assimulo -> numpy[version='>=1.21.6,<2.0a0'] -> libgcc-ng[version='>=11.2.0|>=7.5.0|>=7.3.0|>=7.2.0']\n",
            "metis -> libgcc-ng[version='>=12|>=7.2.0|>=7.5.0']\n",
            "mpfr -> libgcc-ng[version='>=12|>=7.2.0|>=7.3.0']\n",
            "fmilib -> libgcc-ng[version='>=12']\n",
            "mpfr -> gmp[version='>=6.1.2'] -> libgcc-ng[version='>=7.5.0']\n",
            "sundials -> suitesparse[version='>=5.10.1,<6.0a0'] -> libgcc-ng[version='>=11.2.0|>=7.5.0|>=9.3.0']\n",
            "wheel -> python[version='>=3.11,<3.12.0a0'] -> libgcc-ng[version='>=11.2.0|>=7.5.0|>=7.3.0|>=7.2.0']\n",
            "conda[version='>=23.1.0'] -> conda-package-handling[version='>=1.3.0'] -> libgcc-ng[version='>=11.2.0|>=7.5.0|>=7.3.0|>=7.2.0']\n",
            "libxslt -> libxml2[version='>=2.9.10,<2.10.0a0'] -> libgcc-ng[version='>=9.3.0']\n",
            "lxml -> libxslt[version='>=1.1.28,<2.0.0a0'] -> libgcc-ng[version='>=12|>=9.3.0']\n",
            "numpy -> libopenblas[version='>=0.3.2,<0.3.3.0a0'] -> libgcc-ng[version='>=8.2.0']\n",
            "numpy -> libgcc-ng[version='>=11.2.0|>=7.5.0|>=7.3.0|>=7.2.0|>=12']\n",
            "libopenblas -> libgcc-ng[version='>=11.2.0|>=7.5.0|>=7.3.0|>=8.2.0|>=7.2.0|>=12']\n",
            "certifi -> python[version='>=3.11,<3.12.0a0'] -> libgcc-ng[version='>=11.2.0|>=7.5.0|>=7.3.0|>=7.2.0']\n",
            "pyfmi -> libgcc-ng[version='>=12']\n",
            "libblas -> libopenblas[version='>=0.3.23,<0.3.24.0a0'] -> libgcc-ng[version='>=12']\n",
            "openssl -> libgcc-ng[version='>=11.2.0|>=7.5.0|>=7.3.0|>=7.2.0']\n",
            "python=3.10 -> libgcc-ng[version='>=11.2.0|>=7.5.0']\n",
            "\n",
            "Package _openmp_mutex conflicts for:\n",
            "python=3.10 -> libgcc-ng[version='>=11.2.0'] -> _openmp_mutex[version='>=4.5']\n",
            "mpfr -> libgcc-ng[version='>=7.3.0'] -> _openmp_mutex[version='>=4.5']\n",
            "openssl -> libgcc-ng[version='>=7.5.0'] -> _openmp_mutex[version='>=4.5']\n",
            "libopenblas -> libgcc-ng[version='>=11.2.0'] -> _openmp_mutex[version='>=4.5']\n",
            "numpy -> libgcc-ng[version='>=11.2.0'] -> _openmp_mutex[version='>=4.5']\n",
            "metis -> libgcc-ng[version='>=7.2.0'] -> _openmp_mutex[version='>=4.5']\n",
            "scipy -> libgcc-ng[version='>=11.2.0'] -> _openmp_mutex[version='>=4.5']\n",
            "suitesparse -> _openmp_mutex\n",
            "suitesparse -> libgcc-ng[version='>=7.5.0'] -> _openmp_mutex[version='>=4.5']\n",
            "lxml -> libgcc-ng[version='>=11.2.0'] -> _openmp_mutex[version='>=4.5']\n",
            "libxslt -> libgcc-ng[version='>=11.2.0'] -> _openmp_mutex[version='>=4.5']\n",
            "\n",
            "Package xz conflicts for:\n",
            "setuptools -> python[version='>=3.8,<3.9.0a0'] -> xz[version='>=5.2.10,<6.0a0|>=5.4.2,<6.0a0|>=5.2.6,<6.0a0|>=5.2.5,<6.0a0|>=5.2.4,<6.0a0|>=5.2.8,<6.0a0|>=5.2.3,<6.0a0']\n",
            "pip -> python[version='>=3.10,<3.11.0a0'] -> xz[version='>=5.2.10,<6.0a0|>=5.4.2,<6.0a0|>=5.2.8,<6.0a0|>=5.2.6,<6.0a0|>=5.2.5,<6.0a0|>=5.2.4,<6.0a0|>=5.2.3,<6.0a0']\n",
            "conda -> python[version='>=3.10,<3.11.0a0'] -> xz[version='>=5.2.10,<6.0a0|>=5.4.2,<6.0a0|>=5.2.8,<6.0a0|>=5.2.6,<6.0a0|>=5.2.5,<6.0a0|>=5.2.4,<6.0a0|>=5.2.3,<6.0a0']\n",
            "scipy -> python[version='>=3.9,<3.10.0a0'] -> xz[version='>=5.2.10,<6.0a0|>=5.4.2,<6.0a0|>=5.2.8,<6.0a0|>=5.2.6,<6.0a0|>=5.2.5,<6.0a0|>=5.2.4,<6.0a0|>=5.2.3,<6.0a0']\n",
            "numpy -> python[version='>=3.11,<3.12.0a0'] -> xz[version='>=5.2.10,<6.0a0|>=5.4.2,<6.0a0|>=5.2.8,<6.0a0|>=5.2.6,<6.0a0|>=5.2.5,<6.0a0|>=5.2.4,<6.0a0|>=5.2.3,<6.0a0']\n",
            "lxml -> libxml2[version='>=2.10.3,<2.11.0a0'] -> xz[version='>=5.2.10,<6.0a0|>=5.4.2,<6.0a0|>=5.2.8,<6.0a0|>=5.2.6,<6.0a0|>=5.2.5,<6.0a0|>=5.2.4,<6.0a0|>=5.2.3,<6.0a0']\n",
            "libxslt -> libxml2[version='>=2.10.3,<2.11.0a0'] -> xz[version='>=5.2.10,<6.0a0|>=5.2.5,<6.0a0|>=5.2.4,<6.0a0|>=5.2.3,<6.0a0']\n",
            "conda[version='>=23.1.0'] -> python[version='>=3.10,<3.11.0a0'] -> xz[version='>=5.2.10,<6.0a0|>=5.4.2,<6.0a0|>=5.2.8,<6.0a0|>=5.2.6,<6.0a0|>=5.2.5,<6.0a0|>=5.2.4,<6.0a0']\n",
            "conda-content-trust -> python[version='>=3.11,<3.12.0a0'] -> xz[version='>=5.2.10,<6.0a0|>=5.4.2,<6.0a0|>=5.2.8,<6.0a0|>=5.2.6,<6.0a0|>=5.2.5,<6.0a0|>=5.2.4,<6.0a0|>=5.2.3,<6.0a0']\n",
            "pyfmi -> python[version='>=3.10,<3.11.0a0'] -> xz[version='>=5.2.10,<6.0a0|>=5.4.2,<6.0a0|>=5.2.8,<6.0a0|>=5.2.6,<6.0a0|>=5.2.5,<6.0a0']\n",
            "assimulo -> python[version='>=3.10,<3.11.0a0'] -> xz[version='>=5.2.10,<6.0a0|>=5.4.2,<6.0a0|>=5.2.8,<6.0a0|>=5.2.6,<6.0a0|>=5.2.5,<6.0a0']\n",
            "wheel -> python[version='>=3.11,<3.12.0a0'] -> xz[version='>=5.2.10,<6.0a0|>=5.4.2,<6.0a0|>=5.2.8,<6.0a0|>=5.2.6,<6.0a0|>=5.2.5,<6.0a0|>=5.2.4,<6.0a0|>=5.2.3,<6.0a0']\n",
            "certifi -> python[version='>=3.11,<3.12.0a0'] -> xz[version='>=5.2.10,<6.0a0|>=5.4.2,<6.0a0|>=5.2.8,<6.0a0|>=5.2.6,<6.0a0|>=5.2.5,<6.0a0|>=5.2.4,<6.0a0|>=5.2.3,<6.0a0']\n",
            "python=3.10 -> xz[version='>=5.2.10,<6.0a0|>=5.4.2,<6.0a0|>=5.2.8,<6.0a0|>=5.2.6,<6.0a0|>=5.2.5,<6.0a0']\n",
            "\n",
            "Package liblapack conflicts for:\n",
            "numpy -> liblapack[version='>=3.9.0,<4.0a0']\n",
            "pyfmi -> assimulo[version='>=3.0'] -> liblapack[version='>=3.9.0,<4.0a0']\n",
            "assimulo -> liblapack[version='>=3.9.0,<4.0a0']\n",
            "scipy -> liblapack[version='>=3.9.0,<4.0a0']\n",
            "sundials -> liblapack[version='>=3.9.0,<4.0a0']\n",
            "sundials -> suitesparse[version='>=5.10.1,<6.0a0'] -> liblapack[version='>=3.8.0,<4.0a0']\n",
            "suitesparse -> liblapack[version='>=3.8.0,<4.0a0']\n",
            "\n",
            "Package tbb conflicts for:\n",
            "suitesparse -> mkl[version='>=2023.1.0,<2024.0a0'] -> tbb=2021\n",
            "suitesparse -> tbb[version='>=2018.0.4,<2019.0a0|>=2019.1|>=2020.3|>=2021.8.0|>=2020.2,<2021.0.0a0']\n",
            "numpy -> mkl[version='>=2023.1.0,<2024.0a0'] -> tbb=2021\n",
            "sundials -> suitesparse[version='>=5.10.1,<6.0a0'] -> tbb[version='>=2020.2,<2021.0.0a0|>=2020.3']\n",
            "scipy -> mkl[version='>=2023.1.0,<2024.0a0'] -> tbb=2021\n",
            "\n",
            "Package suitesparse conflicts for:\n",
            "sundials -> suitesparse[version='>=5.10.1,<6.0a0']\n",
            "assimulo -> sundials[version='>=6.6.0,<6.7.0a0'] -> suitesparse[version='>=5.10.1,<6.0a0']\n",
            "\n",
            "Package libopenblas conflicts for:\n",
            "assimulo -> libblas[version='>=3.9.0,<4.0a0'] -> libopenblas[version='>=0.2.20,<0.2.21.0a0|>=0.3.2,<0.3.3.0a0|>=0.3.20,<1.0a0|>=0.3.21,<1.0a0|>=0.3.23,<0.3.24.0a0|>=0.3.23,<1.0a0|>=0.3.3,<1.0a0']\n",
            "libblas -> libopenblas[version='>=0.3.23,<0.3.24.0a0|>=0.3.23,<1.0a0']\n",
            "suitesparse -> libopenblas[version='>=0.2.20,<0.2.21.0a0|>=0.3.20,<1.0a0|>=0.3.3,<1.0a0']\n",
            "libcblas -> libblas==3.9.0=17_linux64_openblas -> libopenblas[version='>=0.3.23,<0.3.24.0a0|>=0.3.23,<1.0a0']\n",
            "scipy -> libopenblas[version='>=0.2.20,<0.2.21.0a0|>=0.3.2,<0.3.3.0a0|>=0.3.20,<1.0a0|>=0.3.21,<1.0a0|>=0.3.3,<1.0a0']\n",
            "pyfmi -> numpy[version='>=1.21.6,<2.0a0'] -> libopenblas[version='>=0.2.20,<0.2.21.0a0|>=0.3.2,<0.3.3.0a0|>=0.3.20,<1.0a0|>=0.3.21,<1.0a0|>=0.3.3,<1.0a0']\n",
            "suitesparse -> libblas[version='>=3.8.0,<4.0a0'] -> libopenblas[version='>=0.3.23,<0.3.24.0a0|>=0.3.23,<1.0a0']\n",
            "numpy -> libopenblas[version='>=0.2.20,<0.2.21.0a0|>=0.3.2,<0.3.3.0a0|>=0.3.20,<1.0a0|>=0.3.21,<1.0a0|>=0.3.3,<1.0a0']\n",
            "scipy -> libblas[version='>=3.9.0,<4.0a0'] -> libopenblas[version='>=0.3.23,<0.3.24.0a0|>=0.3.23,<1.0a0']\n",
            "sundials -> libblas[version='>=3.9.0,<4.0a0'] -> libopenblas[version='>=0.3.20,<1.0a0|>=0.3.23,<0.3.24.0a0|>=0.3.23,<1.0a0|>=0.3.3,<1.0a0']\n",
            "numpy -> libblas[version='>=3.9.0,<4.0a0'] -> libopenblas[version='>=0.3.23,<0.3.24.0a0|>=0.3.23,<1.0a0']\n",
            "\n",
            "Package cryptography conflicts for:\n",
            "conda -> pyopenssl[version='>=16.2.0'] -> cryptography[version='>=1.9|>=2.1.4|>=2.2.1|>=2.8|>=3.3|>=35.0|>=38.0.0,<40|>=38.0.0,<42,!=40.0.0,!=40.0.1']\n",
            "conda[version='>=23.1.0'] -> pyopenssl[version='>=16.2.0'] -> cryptography[version='>=1.9|>=2.1.4|>=2.2.1|>=2.8|>=3.3|>=35.0|>=38.0.0,<40|>=38.0.0,<42,!=40.0.0,!=40.0.1']\n",
            "conda-content-trust -> cryptography[version='<41.0.0a0']\n",
            "\n",
            "Package setuptools conflicts for:\n",
            "conda[version='>=23.1.0'] -> ruamel.yaml[version='>=0.11.14,<0.18'] -> setuptools\n",
            "python=3.10 -> pip -> setuptools\n",
            "conda[version='>=23.1.0'] -> setuptools[version='>=31.0.1|>=60.0.0']\n",
            "pip -> setuptools\n",
            "wheel -> setuptools\n",
            "\n",
            "Package requests conflicts for:\n",
            "conda[version='>=23.1.0'] -> requests[version='>=2.20.1,<3|>=2.27.0,<3']\n",
            "scipy -> pooch -> requests[version='>=2.19.0']\n",
            "conda -> requests[version='>=2.12.4|>=2.12.4,<3|>=2.18.4,<3|>=2.20.1,<3|>=2.27.0,<3|>=2.14.2,<3']\n",
            "\n",
            "Package sundials conflicts for:\n",
            "pyfmi -> assimulo[version='>=3.0'] -> sundials[version='>=6.6.0,<6.7.0a0']\n",
            "assimulo -> sundials[version='>=6.6.0,<6.7.0a0']\n",
            "\n",
            "Package icu conflicts for:\n",
            "libxslt -> icu[version='>=58.2,<59.0a0']\n",
            "lxml -> libxml2[version='>=2.10.3,<2.11.0a0'] -> icu[version='>=58.2,<59.0a0']\n",
            "\n",
            "Package scipy conflicts for:\n",
            "assimulo -> scipy\n",
            "pyfmi -> scipy\n",
            "\n",
            "Package libgfortran5 conflicts for:\n",
            "assimulo -> libgfortran-ng -> libgfortran5[version='11.2.0.*|9.3.0.*|8.4.0.*|13.1.0|>=11.2.0',build=h15d22d2_0]\n",
            "assimulo -> libgfortran5[version='>=12.3.0']\n",
            "\n",
            "Package metis conflicts for:\n",
            "suitesparse -> metis[version='>=5.1.0,<5.2.0a0|>=5.1.0,<6.0a0']\n",
            "sundials -> suitesparse[version='>=5.10.1,<6.0a0'] -> metis[version='>=5.1.0,<5.2.0a0|>=5.1.0,<6.0a0']\n",
            "\n",
            "Package wheel conflicts for:\n",
            "python=3.10 -> pip -> wheel\n",
            "pip -> wheel\n",
            "\n",
            "Package libxslt conflicts for:\n",
            "pyfmi -> lxml -> libxslt[version='>=1.1.28|>=1.1.28,<2.0.0a0|>=1.1.37,<2.0a0|>=1.1.35,<2.0a0|>=1.1.34,<2.0a0|>=1.1.33,<2.0a0|>=1.1.32,<2.0a0']\n",
            "lxml -> libxslt[version='>=1.1.28|>=1.1.28,<2.0.0a0|>=1.1.37,<2.0a0|>=1.1.35,<2.0a0|>=1.1.34,<2.0a0|>=1.1.33,<2.0a0|>=1.1.32,<2.0a0']The following specifications were found to be incompatible with your system:\n",
            "\n",
            "  - feature:/linux-64::__glibc==2.35=0\n",
            "  - feature:|@/linux-64::__glibc==2.35=0\n",
            "  - assimulo -> libgfortran-ng -> __glibc[version='>=2.17']\n",
            "  - libopenblas -> libgcc-ng[version='>=11.2.0'] -> __glibc[version='>=2.17']\n",
            "  - libxslt -> libgcc-ng[version='>=11.2.0'] -> __glibc[version='>=2.17']\n",
            "  - lxml -> libgcc-ng[version='>=11.2.0'] -> __glibc[version='>=2.17']\n",
            "  - metis -> libgcc-ng[version='>=7.2.0'] -> __glibc[version='>=2.17']\n",
            "  - mpfr -> libgcc-ng[version='>=7.3.0'] -> __glibc[version='>=2.17']\n",
            "  - numpy -> libgcc-ng[version='>=11.2.0'] -> __glibc[version='>=2.17']\n",
            "  - openssl -> libgcc-ng[version='>=7.5.0'] -> __glibc[version='>=2.17']\n",
            "  - python=3.10 -> libgcc-ng[version='>=11.2.0'] -> __glibc[version='>=2.17']\n",
            "  - scipy -> libgcc-ng[version='>=11.2.0'] -> __glibc[version='>=2.17']\n",
            "  - suitesparse -> libgcc-ng[version='>=11.2.0'] -> __glibc[version='>=2.17']\n",
            "\n",
            "Your installed version is: 2.35\n",
            "\n",
            "\n"
          ]
        }
      ],
      "source": [
        "!conda update -n base -c defaults conda --yes"
      ]
    },
    {
      "cell_type": "code",
      "execution_count": null,
      "metadata": {
        "colab": {
          "base_uri": "https://localhost:8080/"
        },
        "id": "uoBMBSS63Z58",
        "outputId": "51d950eb-f2ab-47e8-ffe6-cdbe849b843b"
      },
      "outputs": [
        {
          "output_type": "stream",
          "name": "stdout",
          "text": [
            "conda 23.1.0\n",
            "Python 3.10.9\n"
          ]
        }
      ],
      "source": [
        "!conda --version\n",
        "!python --version"
      ]
    },
    {
      "cell_type": "code",
      "execution_count": null,
      "metadata": {
        "colab": {
          "base_uri": "https://localhost:8080/"
        },
        "id": "RMuJRdfH3dDq",
        "outputId": "d1fc5867-5467-449e-8054-adf3b2fadf30"
      },
      "outputs": [
        {
          "output_type": "stream",
          "name": "stdout",
          "text": [
            "Collecting package metadata (current_repodata.json): - \b\b\\ \b\b| \b\b/ \b\b- \b\b\\ \b\b| \b\b/ \b\b- \b\b\\ \b\b| \b\b/ \b\b- \b\b\\ \b\b| \b\b/ \b\b- \b\b\\ \b\b| \b\b/ \b\b- \b\b\\ \b\b| \b\b/ \b\b- \b\b\\ \b\b| \b\b/ \b\b- \b\b\\ \b\b| \b\b/ \b\b- \b\b\\ \b\b| \b\b/ \b\b- \b\b\\ \b\b| \b\b/ \b\b- \b\b\\ \b\b| \b\b/ \b\b- \b\b\\ \b\b| \b\b/ \b\b- \b\b\\ \b\b| \b\b/ \b\b- \b\b\\ \b\b| \b\b/ \b\b- \b\b\\ \b\b| \b\b/ \b\b- \b\b\\ \b\b| \b\b/ \b\b- \b\b\\ \b\b| \b\b/ \b\b- \b\b\\ \b\b| \b\b/ \b\b- \b\b\\ \b\b| \b\b/ \b\b- \b\b\\ \b\b| \b\b/ \b\b- \b\b\\ \b\b| \b\b/ \b\b- \b\b\\ \b\b| \b\b/ \b\b- \b\b\\ \b\b| \b\b/ \b\bdone\n",
            "Solving environment: \\ \b\b| \b\b/ \b\b- \b\b\\ \b\b| \b\b/ \b\b- \b\b\\ \b\b| \b\b/ \b\b- \b\b\\ \b\b| \b\b/ \b\b- \b\b\\ \b\b| \b\b/ \b\b- \b\b\\ \b\b| \b\b/ \b\b- \b\b\\ \b\b| \b\b/ \b\b- \b\b\\ \b\b| \b\b/ \b\b- \b\b\\ \b\b| \b\b/ \b\b- \b\b\\ \b\b| \b\b/ \b\b- \b\b\\ \b\b| \b\b/ \b\b- \b\b\\ \b\b| \b\b/ \b\b- \b\b\\ \b\b| \b\b/ \b\b- \b\b\\ \b\b| \b\b/ \b\b- \b\b\\ \b\b| \b\b/ \b\b- \b\b\\ \b\b| \b\b/ \b\b- \b\b\\ \b\b| \b\b/ \b\b- \b\b\\ \b\b| \b\b/ \b\b- \b\b\\ \b\b| \b\b/ \b\b- \b\b\\ \b\b| \b\b/ \b\b- \b\b\\ \b\b| \b\b/ \b\b- \b\b\\ \b\b| \b\b/ \b\b- \b\b\\ \b\b| \b\b/ \b\b- \b\b\\ \b\b| \b\b/ \b\b- \b\b\\ \b\b| \b\b/ \b\b- \b\b\\ \b\b| \b\b/ \b\b- \b\b\\ \b\b| \b\b/ \b\b- \b\b\\ \b\b| \b\b/ \b\b- \b\b\\ \b\b| \b\b/ \b\b- \b\b\\ \b\b| \b\b/ \b\b- \b\b\\ \b\b| \b\b/ \b\b- \b\b\\ \b\b| \b\b/ \b\b- \b\b\\ \b\b| \b\b/ \b\b- \b\b\\ \b\b| \b\b/ \b\b- \b\b\\ \b\b| \b\b/ \b\b- \b\b\\ \b\b| \b\b/ \b\b- \b\b\\ \b\b| \b\b/ \b\b- \b\b\\ \b\b| \b\b/ \b\b- \b\b\\ \b\b| \b\b/ \b\b- \b\b\\ \b\b| \b\b/ \b\b- \b\b\\ \b\b| \b\b/ \b\b- \b\b\\ \b\b| \b\b/ \b\b- \b\b\\ \b\b| \b\b/ \b\b- \b\b\\ \b\b| \b\b/ \b\b- \b\b\\ \b\b| \b\b/ \b\b- \b\b\\ \b\b| \b\b/ \b\b- \b\b\\ \b\b| \b\b/ \b\b- \b\b\\ \b\b| \b\b/ \b\b- \b\b\\ \b\b| \b\b/ \b\b- \b\b\\ \b\b| \b\b/ \b\b- \b\b\\ \b\b| \b\b/ \b\b- \b\b\\ \b\b| \b\b/ \b\b- \b\b\\ \b\b| \b\b/ \b\b- \b\b\\ \b\b| \b\b/ \b\b- \b\b\\ \b\b| \b\b/ \b\b- \b\b\\ \b\b| \b\b/ \b\b- \b\b\\ \b\b| \b\b/ \b\b- \b\b\\ \b\b| \b\b/ \b\b- \b\b\\ \b\b| \b\b/ \b\b- \b\b\\ \b\b| \b\b/ \b\b- \b\b\\ \b\b| \b\b/ \b\b- \b\b\\ \b\b| \b\b/ \b\b- \b\b\\ \b\b| \b\b/ \b\b- \b\b\\ \b\b| \b\b/ \b\b- \b\b\\ \b\b| \b\b/ \b\b- \b\b\\ \b\b| \b\b/ \b\b- \b\b\\ \b\b| \b\b/ \b\b- \b\b\\ \b\b| \b\b/ \b\b- \b\b\\ \b\b| \b\b/ \b\b- \b\b\\ \b\b| \b\b/ \b\b- \b\b\\ \b\b| \b\b/ \b\b- \b\b\\ \b\b| \b\b/ \b\b- \b\b\\ \b\b| \b\b/ \b\b- \b\b\\ \b\b| \b\b/ \b\b- \b\b\\ \b\b| \b\b/ \b\b- \b\b\\ \b\b| \b\b/ \b\b- \b\b\\ \b\b| \b\b/ \b\b- \b\b\\ \b\b| \b\b/ \b\b- \b\b\\ \b\b| \b\b/ \b\b- \b\b\\ \b\b| \b\b/ \b\b- \b\b\\ \b\b| \b\b/ \b\b- \b\b\\ \b\b| \b\b/ \b\b- \b\b\\ \b\b| \b\b/ \b\b- \b\b\\ \b\b| \b\b/ \b\b- \b\b\\ \b\b| \b\b/ \b\b- \b\b\\ \b\b| \b\b/ \b\b- \b\b\\ \b\b| \b\b/ \b\b- \b\b\\ \b\b| \b\b/ \b\b- \b\b\\ \b\b| \b\b/ \b\b- \b\b\\ \b\b| \b\b/ \b\b- \b\b\\ \b\b| \b\b/ \b\b- \b\b\\ \b\b| \b\b/ \b\b- \b\b\\ \b\b| \b\b/ \b\b- \b\b\\ \b\b| \b\b/ \b\b- \b\b\\ \b\b| \b\b/ \b\b- \b\b\\ \b\b| \b\b/ \b\b- \b\b\\ \b\b| \b\b/ \b\b- \b\b\\ \b\b| \b\b/ \b\b- \b\b\\ \b\b| \b\b/ \b\b- \b\b\\ \b\b| \b\b/ \b\b- \b\b\\ \b\b| \b\b/ \b\b- \b\b\\ \b\b| \b\b/ \b\b- \b\b\\ \b\b| \b\b/ \b\b- \b\b\\ \b\b| \b\b/ \b\b- \b\b\\ \b\b| \b\b/ \b\b- \b\b\\ \b\b| \b\b/ \b\b- \b\b\\ \b\b| \b\b/ \b\b- \b\b\\ \b\b| \b\b/ \b\b- \b\b\\ \b\b| \b\b/ \b\b- \b\b\\ \b\b| \b\b/ \b\b- \b\b\\ \b\b| \b\b/ \b\b- \b\b\\ \b\b| \b\b/ \b\b- \b\b\\ \b\b| \b\b/ \b\b- \b\b\\ \b\b| \b\b/ \b\b- \b\b\\ \b\b| \b\b/ \b\b- \b\b\\ \b\b| \b\b/ \b\b- \b\b\\ \b\b| \b\b/ \b\b- \b\b\\ \b\b| \b\b/ \b\b- \b\b\\ \b\b| \b\b/ \b\b- \b\b\\ \b\b| \b\b/ \b\b- \b\b\\ \b\b| \b\b/ \b\b- \b\b\\ \b\b| \b\b/ \b\b- \b\b\\ \b\b| \b\b/ \b\b- \b\b\\ \b\b| \b\b/ \b\b- \b\b\\ \b\b| \b\b/ \b\b- \b\b\\ \b\b| \b\b/ \b\b- \b\b\\ \b\b| \b\b/ \b\b- \b\b\\ \b\b| \b\b/ \b\b- \b\b\\ \b\b| \b\b/ \b\b- \b\b\\ \b\b| \b\b/ \b\b- \b\b\\ \b\b| \b\b/ \b\b- \b\b\\ \b\b| \b\b/ \b\b- \b\b\\ \b\b| \b\b/ \b\b- \b\b\\ \b\b| \b\b/ \b\b- \b\b\\ \b\b| \b\b/ \b\b- \b\b\\ \b\b| \b\b/ \b\b- \b\b\\ \b\b| \b\b/ \b\b- \b\b\\ \b\b| \b\b/ \b\b- \b\b\\ \b\b| \b\b/ \b\b- \b\b\\ \b\b| \b\b/ \b\b- \b\b\\ \b\b| \b\b/ \b\b- \b\b\\ \b\b| \b\b/ \b\b- \b\b\\ \b\b| \b\b/ \b\b- \b\b\\ \b\b| \b\b/ \b\b- \b\b\\ \b\b| \b\b/ \b\b- \b\b\\ \b\b| \b\b/ \b\b- \b\b\\ \b\b| \b\b/ \b\b- \b\b\\ \b\b| \b\b/ \b\b- \b\b\\ \b\b| \b\b/ \b\b- \b\b\\ \b\b| \b\b/ \b\b- \b\b\\ \b\b| \b\b/ \n",
            "The environment is inconsistent, please check the package plan carefully\n",
            "The following packages are causing the inconsistency:\n",
            "\n",
            "  - conda-forge/linux-64::scipy==1.11.1=py310ha4c1d20_0\n",
            "  - conda-forge/linux-64::libopenblas==0.3.23=pthreads_h80387f5_0\n",
            "  - conda-forge/linux-64::libblas==3.9.0=17_linux64_openblas\n",
            "  - conda-forge/linux-64::numpy==1.25.2=py310ha4c1d20_0\n",
            "  - conda-forge/linux-64::metis==5.1.1=h59595ed_0\n",
            "  - conda-forge/linux-64::pyfmi==2.11.0=py310h278f3c1_0\n",
            "  - conda-forge/linux-64::suitesparse==5.10.1=hd8046ac_0\n",
            "  - conda-forge/linux-64::libxslt==1.1.37=h873f0b0_0\n",
            "  - conda-forge/linux-64::mpfr==4.2.0=hb012696_0\n",
            "  - conda-forge/linux-64::fmilib==2.4.1=h59595ed_0\n",
            "  - conda-forge/linux-64::liblapack==3.9.0=17_linux64_openblas\n",
            "  - conda-forge/linux-64::assimulo==3.4.1=py310h48d6207_4\n",
            "  - conda-forge/linux-64::libcblas==3.9.0=17_linux64_openblas\n",
            "  - defaults/linux-64::lxml==4.9.2=py310h5eee18b_0\n",
            "  - conda-forge/linux-64::sundials==6.6.0=h777d08e_1\n",
            "\b\b- \b\b\\ \b\b| \b\b/ \b\b- \b\b\\ \b\b| \b\b/ \b\b- \b\b\\ \b\b| \b\b/ \b\b- \b\b\\ \b\b| \b\b/ \b\b- \b\b\\ \b\b| \b\b/ \b\b- \b\b\\ \b\b| \b\b/ \b\b- \b\b\\ \b\b| \b\b/ \b\b- \b\b\\ \b\b| \b\b/ \b\b- \b\b\\ \b\b| \b\b/ \b\b- \b\b\\ \b\b| \b\b/ \b\b- \b\b\\ \b\b| \b\b/ \b\b- \b\b\\ \b\b| \b\b/ \b\b- \b\b\\ \b\b| \b\b/ \b\b- \b\b\\ \b\b| \b\b/ \b\b- \b\b\\ \b\b| \b\b/ \b\b- \b\b\\ \b\b| \b\b/ \b\b- \b\b\\ \b\b| \b\b/ \b\b- \b\b\\ \b\b| \b\b/ \b\b- \b\bdone\n",
            "\n",
            "\n",
            "==> WARNING: A newer version of conda exists. <==\n",
            "  current version: 23.1.0\n",
            "  latest version: 23.7.2\n",
            "\n",
            "Please update conda by running\n",
            "\n",
            "    $ conda update -n base -c defaults conda\n",
            "\n",
            "Or to minimize the number of packages updated during conda update use\n",
            "\n",
            "     conda install conda=23.7.2\n",
            "\n",
            "\n",
            "\n",
            "## Package Plan ##\n",
            "\n",
            "  environment location: /usr/local\n",
            "\n",
            "  added / updated specs:\n",
            "    - pyfmi\n",
            "\n",
            "\n",
            "The following packages will be REMOVED:\n",
            "\n",
            "  libgomp-11.2.0-h1234567_1\n",
            "\n",
            "The following packages will be UPDATED:\n",
            "\n",
            "  ca-certificates    pkgs/main::ca-certificates-2023.01.10~ --> conda-forge::ca-certificates-2023.7.22-hbcca054_0 \n",
            "  certifi            pkgs/main/linux-64::certifi-2022.12.7~ --> conda-forge/noarch::certifi-2023.7.22-pyhd8ed1ab_0 \n",
            "  conda              pkgs/main::conda-23.1.0-py310h06a4308~ --> conda-forge::conda-23.7.2-py310hff52083_0 \n",
            "  libgcc-ng          pkgs/main::libgcc-ng-11.2.0-h1234567_1 --> conda-forge::libgcc-ng-13.1.0-he5830b7_0 \n",
            "  libstdcxx-ng       pkgs/main::libstdcxx-ng-11.2.0-h12345~ --> conda-forge::libstdcxx-ng-13.1.0-hfd8a6a1_0 \n",
            "  openssl              pkgs/main::openssl-1.1.1s-h7f8727e_0 --> conda-forge::openssl-1.1.1v-hd590300_0 \n",
            "\n",
            "The following packages will be SUPERSEDED by a higher-priority channel:\n",
            "\n",
            "  _libgcc_mutex           pkgs/main::_libgcc_mutex-0.1-main --> conda-forge::_libgcc_mutex-0.1-conda_forge \n",
            "  _openmp_mutex          pkgs/main::_openmp_mutex-5.1-1_gnu --> conda-forge::_openmp_mutex-4.5-2_kmp_llvm \n",
            "\n",
            "\n",
            "\n",
            "Downloading and Extracting Packages\n",
            "\n",
            "Preparing transaction: | \b\bdone\n",
            "Verifying transaction: - \b\b\\ \b\b| \b\bdone\n",
            "Executing transaction: - \b\b\\ \b\b| \b\b/ \b\b- \b\b\\ \b\b| \b\b/ \b\b- \b\b\\ \b\bdone\n"
          ]
        }
      ],
      "source": [
        "!conda install -c conda-forge pyfmi --yes # Install the key package"
      ]
    },
    {
      "cell_type": "markdown",
      "metadata": {
        "id": "UTETJm3l6heL"
      },
      "source": [
        "# BPL_TEST2_Fedbatch setup\n",
        "\n",
        "This notebook just produce the Figure 2 in the paper \"Design ideas behind Bioprocess Library for Modelica\", by J P Axelsson, to be presented at the 15th International Modelica Conference in Aachen, Germany, October 9-11, 2023.\n"
      ]
    },
    {
      "cell_type": "markdown",
      "metadata": {
        "id": "mxILgQ103nZ6"
      },
      "source": [
        "Now specific installation and the run simulations. Start with connecting to Github. Then upload the two files:\n",
        "\n",
        "* FMU - BPL_TEST2_Fedbatch_linux_om_me.fmu\n",
        "* Setup-file - BPL_TEST2_Fedbatch_explore.me.py"
      ]
    },
    {
      "cell_type": "code",
      "execution_count": null,
      "metadata": {
        "colab": {
          "base_uri": "https://localhost:8080/",
          "height": 391
        },
        "id": "RfWPh1B63yBF",
        "outputId": "1ee69c6e-b173-4158-d07a-51f37c8f464c"
      },
      "outputs": [
        {
          "output_type": "stream",
          "name": "stderr",
          "text": [
            "fatal: destination path 'BPL_TEST2_Fedbatch' already exists and is not an empty directory.\n"
          ]
        },
        {
          "output_type": "error",
          "ename": "CalledProcessError",
          "evalue": "ignored",
          "traceback": [
            "\u001b[0;31m---------------------------------------------------------------------------\u001b[0m",
            "\u001b[0;31mCalledProcessError\u001b[0m                        Traceback (most recent call last)",
            "\u001b[0;32m<ipython-input-7-30296093804e>\u001b[0m in \u001b[0;36m<cell line: 1>\u001b[0;34m()\u001b[0m\n\u001b[0;32m----> 1\u001b[0;31m \u001b[0mget_ipython\u001b[0m\u001b[0;34m(\u001b[0m\u001b[0;34m)\u001b[0m\u001b[0;34m.\u001b[0m\u001b[0mrun_cell_magic\u001b[0m\u001b[0;34m(\u001b[0m\u001b[0;34m'bash'\u001b[0m\u001b[0;34m,\u001b[0m \u001b[0;34m''\u001b[0m\u001b[0;34m,\u001b[0m \u001b[0;34m'git clone https://github.com/janpeter19/BPL_TEST2_Fedbatch\\n'\u001b[0m\u001b[0;34m)\u001b[0m\u001b[0;34m\u001b[0m\u001b[0;34m\u001b[0m\u001b[0m\n\u001b[0m",
            "\u001b[0;32m/usr/local/lib/python3.10/dist-packages/google/colab/_shell.py\u001b[0m in \u001b[0;36mrun_cell_magic\u001b[0;34m(self, magic_name, line, cell)\u001b[0m\n\u001b[1;32m    332\u001b[0m     \u001b[0;32mif\u001b[0m \u001b[0mline\u001b[0m \u001b[0;32mand\u001b[0m \u001b[0;32mnot\u001b[0m \u001b[0mcell\u001b[0m\u001b[0;34m:\u001b[0m\u001b[0;34m\u001b[0m\u001b[0;34m\u001b[0m\u001b[0m\n\u001b[1;32m    333\u001b[0m       \u001b[0mcell\u001b[0m \u001b[0;34m=\u001b[0m \u001b[0;34m' '\u001b[0m\u001b[0;34m\u001b[0m\u001b[0;34m\u001b[0m\u001b[0m\n\u001b[0;32m--> 334\u001b[0;31m     \u001b[0;32mreturn\u001b[0m \u001b[0msuper\u001b[0m\u001b[0;34m(\u001b[0m\u001b[0;34m)\u001b[0m\u001b[0;34m.\u001b[0m\u001b[0mrun_cell_magic\u001b[0m\u001b[0;34m(\u001b[0m\u001b[0mmagic_name\u001b[0m\u001b[0;34m,\u001b[0m \u001b[0mline\u001b[0m\u001b[0;34m,\u001b[0m \u001b[0mcell\u001b[0m\u001b[0;34m)\u001b[0m\u001b[0;34m\u001b[0m\u001b[0;34m\u001b[0m\u001b[0m\n\u001b[0m\u001b[1;32m    335\u001b[0m \u001b[0;34m\u001b[0m\u001b[0m\n\u001b[1;32m    336\u001b[0m \u001b[0;34m\u001b[0m\u001b[0m\n",
            "\u001b[0;32m/usr/local/lib/python3.10/dist-packages/IPython/core/interactiveshell.py\u001b[0m in \u001b[0;36mrun_cell_magic\u001b[0;34m(self, magic_name, line, cell)\u001b[0m\n\u001b[1;32m   2471\u001b[0m             \u001b[0;32mwith\u001b[0m \u001b[0mself\u001b[0m\u001b[0;34m.\u001b[0m\u001b[0mbuiltin_trap\u001b[0m\u001b[0;34m:\u001b[0m\u001b[0;34m\u001b[0m\u001b[0;34m\u001b[0m\u001b[0m\n\u001b[1;32m   2472\u001b[0m                 \u001b[0margs\u001b[0m \u001b[0;34m=\u001b[0m \u001b[0;34m(\u001b[0m\u001b[0mmagic_arg_s\u001b[0m\u001b[0;34m,\u001b[0m \u001b[0mcell\u001b[0m\u001b[0;34m)\u001b[0m\u001b[0;34m\u001b[0m\u001b[0;34m\u001b[0m\u001b[0m\n\u001b[0;32m-> 2473\u001b[0;31m                 \u001b[0mresult\u001b[0m \u001b[0;34m=\u001b[0m \u001b[0mfn\u001b[0m\u001b[0;34m(\u001b[0m\u001b[0;34m*\u001b[0m\u001b[0margs\u001b[0m\u001b[0;34m,\u001b[0m \u001b[0;34m**\u001b[0m\u001b[0mkwargs\u001b[0m\u001b[0;34m)\u001b[0m\u001b[0;34m\u001b[0m\u001b[0;34m\u001b[0m\u001b[0m\n\u001b[0m\u001b[1;32m   2474\u001b[0m             \u001b[0;32mreturn\u001b[0m \u001b[0mresult\u001b[0m\u001b[0;34m\u001b[0m\u001b[0;34m\u001b[0m\u001b[0m\n\u001b[1;32m   2475\u001b[0m \u001b[0;34m\u001b[0m\u001b[0m\n",
            "\u001b[0;32m/usr/local/lib/python3.10/dist-packages/IPython/core/magics/script.py\u001b[0m in \u001b[0;36mnamed_script_magic\u001b[0;34m(line, cell)\u001b[0m\n\u001b[1;32m    140\u001b[0m             \u001b[0;32melse\u001b[0m\u001b[0;34m:\u001b[0m\u001b[0;34m\u001b[0m\u001b[0;34m\u001b[0m\u001b[0m\n\u001b[1;32m    141\u001b[0m                 \u001b[0mline\u001b[0m \u001b[0;34m=\u001b[0m \u001b[0mscript\u001b[0m\u001b[0;34m\u001b[0m\u001b[0;34m\u001b[0m\u001b[0m\n\u001b[0;32m--> 142\u001b[0;31m             \u001b[0;32mreturn\u001b[0m \u001b[0mself\u001b[0m\u001b[0;34m.\u001b[0m\u001b[0mshebang\u001b[0m\u001b[0;34m(\u001b[0m\u001b[0mline\u001b[0m\u001b[0;34m,\u001b[0m \u001b[0mcell\u001b[0m\u001b[0;34m)\u001b[0m\u001b[0;34m\u001b[0m\u001b[0;34m\u001b[0m\u001b[0m\n\u001b[0m\u001b[1;32m    143\u001b[0m \u001b[0;34m\u001b[0m\u001b[0m\n\u001b[1;32m    144\u001b[0m         \u001b[0;31m# write a basic docstring:\u001b[0m\u001b[0;34m\u001b[0m\u001b[0;34m\u001b[0m\u001b[0m\n",
            "\u001b[0;32m<decorator-gen-103>\u001b[0m in \u001b[0;36mshebang\u001b[0;34m(self, line, cell)\u001b[0m\n",
            "\u001b[0;32m/usr/local/lib/python3.10/dist-packages/IPython/core/magic.py\u001b[0m in \u001b[0;36m<lambda>\u001b[0;34m(f, *a, **k)\u001b[0m\n\u001b[1;32m    185\u001b[0m     \u001b[0;31m# but it's overkill for just that one bit of state.\u001b[0m\u001b[0;34m\u001b[0m\u001b[0;34m\u001b[0m\u001b[0m\n\u001b[1;32m    186\u001b[0m     \u001b[0;32mdef\u001b[0m \u001b[0mmagic_deco\u001b[0m\u001b[0;34m(\u001b[0m\u001b[0marg\u001b[0m\u001b[0;34m)\u001b[0m\u001b[0;34m:\u001b[0m\u001b[0;34m\u001b[0m\u001b[0;34m\u001b[0m\u001b[0m\n\u001b[0;32m--> 187\u001b[0;31m         \u001b[0mcall\u001b[0m \u001b[0;34m=\u001b[0m \u001b[0;32mlambda\u001b[0m \u001b[0mf\u001b[0m\u001b[0;34m,\u001b[0m \u001b[0;34m*\u001b[0m\u001b[0ma\u001b[0m\u001b[0;34m,\u001b[0m \u001b[0;34m**\u001b[0m\u001b[0mk\u001b[0m\u001b[0;34m:\u001b[0m \u001b[0mf\u001b[0m\u001b[0;34m(\u001b[0m\u001b[0;34m*\u001b[0m\u001b[0ma\u001b[0m\u001b[0;34m,\u001b[0m \u001b[0;34m**\u001b[0m\u001b[0mk\u001b[0m\u001b[0;34m)\u001b[0m\u001b[0;34m\u001b[0m\u001b[0;34m\u001b[0m\u001b[0m\n\u001b[0m\u001b[1;32m    188\u001b[0m \u001b[0;34m\u001b[0m\u001b[0m\n\u001b[1;32m    189\u001b[0m         \u001b[0;32mif\u001b[0m \u001b[0mcallable\u001b[0m\u001b[0;34m(\u001b[0m\u001b[0marg\u001b[0m\u001b[0;34m)\u001b[0m\u001b[0;34m:\u001b[0m\u001b[0;34m\u001b[0m\u001b[0;34m\u001b[0m\u001b[0m\n",
            "\u001b[0;32m/usr/local/lib/python3.10/dist-packages/IPython/core/magics/script.py\u001b[0m in \u001b[0;36mshebang\u001b[0;34m(self, line, cell)\u001b[0m\n\u001b[1;32m    243\u001b[0m             \u001b[0msys\u001b[0m\u001b[0;34m.\u001b[0m\u001b[0mstderr\u001b[0m\u001b[0;34m.\u001b[0m\u001b[0mflush\u001b[0m\u001b[0;34m(\u001b[0m\u001b[0;34m)\u001b[0m\u001b[0;34m\u001b[0m\u001b[0;34m\u001b[0m\u001b[0m\n\u001b[1;32m    244\u001b[0m         \u001b[0;32mif\u001b[0m \u001b[0margs\u001b[0m\u001b[0;34m.\u001b[0m\u001b[0mraise_error\u001b[0m \u001b[0;32mand\u001b[0m \u001b[0mp\u001b[0m\u001b[0;34m.\u001b[0m\u001b[0mreturncode\u001b[0m\u001b[0;34m!=\u001b[0m\u001b[0;36m0\u001b[0m\u001b[0;34m:\u001b[0m\u001b[0;34m\u001b[0m\u001b[0;34m\u001b[0m\u001b[0m\n\u001b[0;32m--> 245\u001b[0;31m             \u001b[0;32mraise\u001b[0m \u001b[0mCalledProcessError\u001b[0m\u001b[0;34m(\u001b[0m\u001b[0mp\u001b[0m\u001b[0;34m.\u001b[0m\u001b[0mreturncode\u001b[0m\u001b[0;34m,\u001b[0m \u001b[0mcell\u001b[0m\u001b[0;34m,\u001b[0m \u001b[0moutput\u001b[0m\u001b[0;34m=\u001b[0m\u001b[0mout\u001b[0m\u001b[0;34m,\u001b[0m \u001b[0mstderr\u001b[0m\u001b[0;34m=\u001b[0m\u001b[0merr\u001b[0m\u001b[0;34m)\u001b[0m\u001b[0;34m\u001b[0m\u001b[0;34m\u001b[0m\u001b[0m\n\u001b[0m\u001b[1;32m    246\u001b[0m \u001b[0;34m\u001b[0m\u001b[0m\n\u001b[1;32m    247\u001b[0m     \u001b[0;32mdef\u001b[0m \u001b[0m_run_script\u001b[0m\u001b[0;34m(\u001b[0m\u001b[0mself\u001b[0m\u001b[0;34m,\u001b[0m \u001b[0mp\u001b[0m\u001b[0;34m,\u001b[0m \u001b[0mcell\u001b[0m\u001b[0;34m,\u001b[0m \u001b[0mto_close\u001b[0m\u001b[0;34m)\u001b[0m\u001b[0;34m:\u001b[0m\u001b[0;34m\u001b[0m\u001b[0;34m\u001b[0m\u001b[0m\n",
            "\u001b[0;31mCalledProcessError\u001b[0m: Command 'b'git clone https://github.com/janpeter19/BPL_TEST2_Fedbatch\\n'' returned non-zero exit status 128."
          ]
        }
      ],
      "source": [
        "%%bash\n",
        "git clone https://github.com/janpeter19/CONF_2023_10_MODELICA15"
      ]
    },
    {
      "cell_type": "code",
      "execution_count": null,
      "metadata": {
        "id": "i6uOVB44300a"
      },
      "outputs": [],
      "source": [
        "%cd CONF_2023_10_MODELICA15"
      ]
    },
    {
      "cell_type": "code",
      "execution_count": null,
      "metadata": {
        "id": "b-y82jZY33cO"
      },
      "outputs": [],
      "source": [
        "run -i BPL_TEST2_Fedbatch_explore.py"
      ]
    },
    {
      "cell_type": "code",
      "execution_count": null,
      "metadata": {
        "id": "HUFhuE-H4RCw"
      },
      "outputs": [],
      "source": [
        "%matplotlib inline\n",
        "plt.rcParams['figure.figsize'] = [25/2.54, 20/2.54]"
      ]
    },
    {
      "cell_type": "code",
      "execution_count": null,
      "metadata": {
        "id": "cMO4OlAgJIlb"
      },
      "outputs": [],
      "source": [
        "import warnings\n",
        "warnings.filterwarnings(\"ignore\")"
      ]
    },
    {
      "cell_type": "code",
      "source": [
        "process_diagram()"
      ],
      "metadata": {
        "id": "JDkL5dRJDIdy"
      },
      "execution_count": null,
      "outputs": []
    },
    {
      "cell_type": "code",
      "execution_count": null,
      "metadata": {
        "id": "-Y3NHWIj4TZ6"
      },
      "outputs": [],
      "source": [
        "describe('culture'); print(); #describe('liquidphase')                                  # Pump schedule parameter\n"
      ]
    },
    {
      "cell_type": "code",
      "execution_count": null,
      "metadata": {
        "id": "UeMOu19LJT6b"
      },
      "outputs": [],
      "source": [
        "# Simulation of the process\n",
        "newplot(plotType='TimeSeries')\n",
        "ax2.set_ylim([0, 0.45])\n",
        "init(V_0=1000, VX_0=1*1e3, VS_0=10*1e3)\n",
        "par(feedtank_S_in=600, Ks=0.1, Y=0.40)\n",
        "par(t_start=4, F_start=4.0, mu_feed=0.2, F_max=35)\n",
        "simu(20)"
      ]
    },
    {
      "cell_type": "code",
      "source": [
        "disp('culture')"
      ],
      "metadata": {
        "id": "ODUup2DCaEHW"
      },
      "execution_count": null,
      "outputs": []
    },
    {
      "cell_type": "code",
      "source": [],
      "metadata": {
        "id": "pNShwLqraJrd"
      },
      "execution_count": null,
      "outputs": []
    },
    {
      "cell_type": "code",
      "execution_count": null,
      "metadata": {
        "id": "yjcgKrvpJ96A"
      },
      "outputs": [],
      "source": [
        "describe('mu')"
      ]
    },
    {
      "cell_type": "code",
      "execution_count": null,
      "metadata": {
        "id": "sLF6NdXvKBY4"
      },
      "outputs": [],
      "source": [
        "describe('parts')"
      ]
    },
    {
      "cell_type": "code",
      "execution_count": null,
      "metadata": {
        "id": "cZKKtkydKHH-"
      },
      "outputs": [],
      "source": [
        "describe('MSL')"
      ]
    },
    {
      "cell_type": "code",
      "execution_count": null,
      "metadata": {
        "id": "D7lCWmdiKNLm"
      },
      "outputs": [],
      "source": [
        "system_info()"
      ]
    },
    {
      "cell_type": "code",
      "execution_count": null,
      "metadata": {
        "id": "4YYfWY1FIQ93"
      },
      "outputs": [],
      "source": []
    }
  ],
  "metadata": {
    "colab": {
      "provenance": [],
      "include_colab_link": true
    },
    "kernelspec": {
      "display_name": "Python 3 (ipykernel)",
      "language": "python",
      "name": "python3"
    },
    "language_info": {
      "codemirror_mode": {
        "name": "ipython",
        "version": 3
      },
      "file_extension": ".py",
      "mimetype": "text/x-python",
      "name": "python",
      "nbconvert_exporter": "python",
      "pygments_lexer": "ipython3",
      "version": "3.8.16"
    }
  },
  "nbformat": 4,
  "nbformat_minor": 0
}